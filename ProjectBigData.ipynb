{
  "cells": [
    {
      "cell_type": "code",
      "execution_count": null,
      "metadata": {
        "colab": {
          "base_uri": "https://localhost:8080/"
        },
        "id": "3EnFYjh0Fmng",
        "outputId": "0439dcaf-651a-4067-bbb2-0d65e2992147"
      },
      "outputs": [
        {
          "output_type": "stream",
          "name": "stdout",
          "text": [
            "Requirement already satisfied: pyspark in /usr/local/lib/python3.10/dist-packages (3.5.0)\n",
            "Requirement already satisfied: py4j==0.10.9.7 in /usr/local/lib/python3.10/dist-packages (from pyspark) (0.10.9.7)\n"
          ]
        }
      ],
      "source": [
        "!pip install pyspark"
      ]
    },
    {
      "cell_type": "code",
      "execution_count": null,
      "metadata": {
        "colab": {
          "base_uri": "https://localhost:8080/"
        },
        "id": "Q-aELujLGUAY",
        "outputId": "8daed1be-891a-490c-e1a1-5f810701f9ff"
      },
      "outputs": [
        {
          "output_type": "stream",
          "name": "stdout",
          "text": [
            "Drive already mounted at /content/drive; to attempt to forcibly remount, call drive.mount(\"/content/drive\", force_remount=True).\n"
          ]
        }
      ],
      "source": [
        "from pyspark import SparkConf\n",
        "from pyspark.sql import SparkSession\n",
        "from pyspark.sql import DataFrame\n",
        "from pyspark.sql.functions import col\n",
        "import pyspark.sql.types as t\n",
        "import pyspark.sql.functions as f\n",
        "from google.colab import drive\n",
        "drive.mount('/content/drive')"
      ]
    },
    {
      "cell_type": "code",
      "execution_count": null,
      "metadata": {
        "id": "CIa2ywzpJhBc"
      },
      "outputs": [],
      "source": [
        "hack_license = \"hack_license\"\n",
        "dropoff_datetime = \"dropoff_datetime\"\n",
        "dropoff_latitude = \"dropoff_latitude\"\n",
        "dropoff_longitude = \"dropoff_longitude\"\n",
        "fare_amount = \"fare_amount\"\n",
        "medallion = \"medallion\"\n",
        "mta_tax = \"mta_tax\"\n",
        "passenger_count = \"passenger_count\"\n",
        "payment_type = \"payment_type\"\n",
        "pickup_datetime = \"pickup_datetime\"\n",
        "pickup_latitude = \"pickup_latitude\"\n",
        "pickup_longitude = \"pickup_longitude\"\n",
        "rate_code = \"rate_code\"\n",
        "store_and_fwd_flag = \"store_and_fwd_flag\"\n",
        "surcharge = \"surcharge\"\n",
        "tip_amount = \"tip_amount\"\n",
        "tolls_amount = \"tolls_amount\"\n",
        "total_amount = \"total_amount\"\n",
        "trip_distance = \"trip_distance\"\n",
        "trip_time_in_secs = \"trip_time_in_secs\"\n",
        "vendor_id = \"vendor_id\""
      ]
    },
    {
      "cell_type": "code",
      "execution_count": null,
      "metadata": {
        "id": "YGsY5IWpGdTB"
      },
      "outputs": [],
      "source": [
        "path_trip = '/content/drive/Shareddrives/Big Data/trip_data'"
      ]
    },
    {
      "cell_type": "code",
      "source": [
        "from google.colab import drive\n",
        "drive.mount('/content/drive')"
      ],
      "metadata": {
        "colab": {
          "base_uri": "https://localhost:8080/"
        },
        "id": "3L3U4hGmYBUs",
        "outputId": "e7733b3e-d2d3-4170-e193-d708b5a1848d"
      },
      "execution_count": null,
      "outputs": [
        {
          "output_type": "stream",
          "name": "stdout",
          "text": [
            "Drive already mounted at /content/drive; to attempt to forcibly remount, call drive.mount(\"/content/drive\", force_remount=True).\n"
          ]
        }
      ]
    },
    {
      "cell_type": "code",
      "execution_count": null,
      "metadata": {
        "id": "dCD02s-yGhjv"
      },
      "outputs": [],
      "source": [
        "class TripWorker:\n",
        "    trip_schema = t.StructType([\n",
        "        t.StructField(medallion, t.StringType(), False),\n",
        "        t.StructField(hack_license, t.StringType(), False),\n",
        "        t.StructField(vendor_id, t.StringType(), False),\n",
        "        t.StructField(rate_code, t.IntegerType(), False),\n",
        "        t.StructField(store_and_fwd_flag, t.StringType(), False),\n",
        "        t.StructField(pickup_datetime, t.TimestampType(), False),\n",
        "        t.StructField(dropoff_datetime, t.TimestampType(), False),\n",
        "        t.StructField(passenger_count, t.IntegerType(), False),\n",
        "        t.StructField(trip_time_in_secs, t.IntegerType(), False),\n",
        "        t.StructField(trip_distance, t.FloatType(), False),\n",
        "        t.StructField(pickup_longitude, t.FloatType(), False),\n",
        "        t.StructField(pickup_latitude, t.FloatType(), False),\n",
        "        t.StructField(dropoff_longitude, t.FloatType(), False),\n",
        "        t.StructField(dropoff_latitude, t.FloatType(), False),\n",
        "    ])\n",
        "\n",
        "    def __init__(self, spark: SparkSession):\n",
        "        self.df: DataFrame = (spark.read\n",
        "                              .csv(path_trip, self.trip_schema, header=True, ignoreLeadingWhiteSpace=True,\n",
        "                                   ignoreTrailingWhiteSpace=True, nullValue='null'))\n",
        "\n",
        "    def show(self, n=None):\n",
        "        self.df.show(n=n)\n",
        "\n",
        "    def count(self) -> int:\n",
        "        return self.df.count()\n",
        "\n",
        "    def schema(self):\n",
        "        self.df.printSchema()\n"
      ]
    },
    {
      "cell_type": "code",
      "execution_count": null,
      "metadata": {
        "id": "75-cYULvH60v"
      },
      "outputs": [],
      "source": [
        "def init_spark() -> SparkSession:\n",
        "    return (SparkSession.builder\n",
        "            .master(\"local\")\n",
        "            .appName(\"Project\")\n",
        "            .config(conf=SparkConf())\n",
        "            .getOrCreate())"
      ]
    },
    {
      "cell_type": "code",
      "execution_count": null,
      "metadata": {
        "id": "cIo7J6RnH9yJ"
      },
      "outputs": [],
      "source": [
        "spark = init_spark()"
      ]
    },
    {
      "cell_type": "code",
      "execution_count": null,
      "metadata": {
        "id": "Dnp0Mr_8ID17"
      },
      "outputs": [],
      "source": [
        "tripWorker = TripWorker(spark)"
      ]
    },
    {
      "cell_type": "code",
      "execution_count": null,
      "metadata": {
        "colab": {
          "base_uri": "https://localhost:8080/"
        },
        "id": "obyVslUqIFrS",
        "outputId": "fbb77b03-dc91-4e1b-f805-7ecbc791a6b3"
      },
      "outputs": [
        {
          "output_type": "stream",
          "name": "stdout",
          "text": [
            "+--------------------+--------------------+---------+---------+------------------+-------------------+-------------------+---------------+-----------------+-------------+----------------+---------------+-----------------+----------------+\n",
            "|           medallion|        hack_license|vendor_id|rate_code|store_and_fwd_flag|    pickup_datetime|   dropoff_datetime|passenger_count|trip_time_in_secs|trip_distance|pickup_longitude|pickup_latitude|dropoff_longitude|dropoff_latitude|\n",
            "+--------------------+--------------------+---------+---------+------------------+-------------------+-------------------+---------------+-----------------+-------------+----------------+---------------+-----------------+----------------+\n",
            "|FE7B354FEB67B9C94...|2C78614ADC9C602EC...|      CMT|        1|                 N|2013-03-01 00:00:04|2013-03-01 00:19:03|              1|             1138|         14.3|        -73.7767|      40.645164|       -73.913925|       40.772614|\n",
            "|B1370E6501ED61CED...|08BF18740B38D6472...|      CMT|        1|                 N|2013-03-01 00:00:18|2013-03-01 00:12:11|              1|              712|          3.3|       -73.98734|      40.752056|        -73.96534|        40.79272|\n",
            "|CBC20164C22B96CAF...|F3310C8DA3DB753DD...|      CMT|        1|                 N|2013-03-01 00:00:18|2013-03-01 00:14:24|              1|              845|          4.5|       -73.99149|      40.726444|       -73.980865|        40.77837|\n",
            "|B8256802A449BEF34...|DF142C5256392C3CD...|      CMT|        1|                 N|2013-03-01 00:00:23|2013-03-01 00:14:56|              1|              872|          9.0|       -73.87311|      40.774094|        -73.96093|       40.769535|\n",
            "|0F9E0728AB1E40D5C...|10D2E58D75E07D6B5...|      CMT|        1|                 N|2013-03-01 00:00:35|2013-03-01 00:05:44|              1|              308|          1.3|       -73.99056|      40.750927|        -73.98288|       40.739132|\n",
            "|D9F2D9B8520157F35...|A38CE69F84E515A71...|      CMT|        1|                 N|2013-03-01 00:00:39|2013-03-01 00:16:09|              1|              930|          4.1|       -73.98103|      40.759205|       -73.921646|       40.738354|\n",
            "|CFC0F9CE3CA2B3A53...|3DD549B1A5F1EF313...|      CMT|        1|                 N|2013-03-01 00:00:39|2013-03-01 00:10:14|              1|              574|          2.4|        -74.0001|      40.734695|        -73.97452|        40.75349|\n",
            "|9EB16B34B8DCE7409...|DF4C8A343928E47C3...|      CMT|        1|                 N|2013-03-01 00:00:51|2013-03-01 00:11:40|              1|              649|          2.8|      -73.977486|       40.73822|        -73.98891|       40.719063|\n",
            "|BFB50E2A29509C819...|5490FCCC1EEFC71E5...|      CMT|        1|                 N|2013-03-01 00:00:39|2013-03-01 00:11:58|              1|              678|          2.3|      -73.982254|       40.77077|        -73.97092|        40.74885|\n",
            "|8AD0B4FDBF2F62F88...|A1BADDEEB8F3AD973...|      CMT|        1|                 N|2013-03-01 00:04:49|2013-03-01 00:08:51|              1|              241|          1.1|       -73.95578|       40.77252|        -73.94682|       40.781628|\n",
            "|EC357E5043D2B57A5...|57E230DE0A42F3A87...|      CMT|        1|                 N|2013-03-01 00:04:57|2013-03-01 00:15:39|              2|              641|          2.0|      -73.988785|      40.722244|        -73.97982|       40.746365|\n",
            "|9202653FEF132ECCF...|A86011E8B4D0FCC19...|      CMT|        1|                 N|2013-03-01 00:05:04|2013-03-01 00:11:25|              1|              381|          1.6|       -73.96048|      40.776127|        -73.98121|        40.78064|\n",
            "|8B8D3A06CE1FAD14B...|9BC5440E1CDC10E1A...|      CMT|        1|                 N|2013-03-01 00:05:14|2013-03-01 00:19:28|              1|              853|          6.6|       -74.00892|      40.713947|        -73.91686|       40.742718|\n",
            "|46E1AE760E9E1FC15...|C21B0744AFE2EB827...|      CMT|        1|                 N|2013-03-01 00:05:14|2013-03-01 00:47:14|              1|             2519|         22.0|       -74.00079|       40.72968|        -73.78671|       40.843445|\n",
            "|3CD865423995A255E...|69365235F0D552B41...|      CMT|        1|                 N|2013-03-01 00:05:23|2013-03-01 00:20:41|              1|              917|          3.8|       -73.96016|      40.762028|        -74.00426|       40.738377|\n",
            "|5DB88689955538204...|931A02DDFF04FAAB6...|      CMT|        1|                 N|2013-03-01 00:05:30|2013-03-01 00:11:28|              1|              357|          1.7|       -73.99695|        40.7375|        -73.99031|       40.756832|\n",
            "|5B61670F3280083D3...|4A855083F444749A8...|      CMT|        1|                 N|2013-03-01 00:05:40|2013-03-01 00:18:23|              2|              763|          2.7|       -73.95063|      40.771557|       -73.985405|        40.75901|\n",
            "|BEEB676B645ABBC94...|39A226BFC4DE46B9B...|      CMT|        1|                 N|2013-03-01 00:05:41|2013-03-01 00:11:04|              1|              323|          1.3|             0.0|            0.0|              0.0|             0.0|\n",
            "|D30BED60331C79E3F...|E0F3F8A7AE1B8DCCE...|      CMT|        1|                 N|2013-03-01 00:05:48|2013-03-01 00:18:11|              1|              743|          1.8|      -73.983505|      40.761242|         -73.9936|       40.739323|\n",
            "|D886C7DC412D236CF...|9B87622D5FD8A9F31...|      CMT|        2|                 N|2013-03-01 00:05:55|2013-03-01 00:39:25|              1|             2009|         20.0|      -74.001114|      40.751873|        -74.01782|        40.85119|\n",
            "+--------------------+--------------------+---------+---------+------------------+-------------------+-------------------+---------------+-----------------+-------------+----------------+---------------+-----------------+----------------+\n",
            "only showing top 20 rows\n",
            "\n"
          ]
        }
      ],
      "source": [
        "tripWorker.df.show()"
      ]
    },
    {
      "cell_type": "code",
      "execution_count": null,
      "metadata": {
        "colab": {
          "base_uri": "https://localhost:8080/"
        },
        "id": "2rCesdEnJIJZ",
        "outputId": "07144180-b8cb-4265-fb2a-f539fe36047b"
      },
      "outputs": [
        {
          "output_type": "stream",
          "name": "stdout",
          "text": [
            "root\n",
            " |-- medallion: string (nullable = true)\n",
            " |-- hack_license: string (nullable = true)\n",
            " |-- vendor_id: string (nullable = true)\n",
            " |-- rate_code: integer (nullable = true)\n",
            " |-- store_and_fwd_flag: string (nullable = true)\n",
            " |-- pickup_datetime: timestamp (nullable = true)\n",
            " |-- dropoff_datetime: timestamp (nullable = true)\n",
            " |-- passenger_count: integer (nullable = true)\n",
            " |-- trip_time_in_secs: integer (nullable = true)\n",
            " |-- trip_distance: float (nullable = true)\n",
            " |-- pickup_longitude: float (nullable = true)\n",
            " |-- pickup_latitude: float (nullable = true)\n",
            " |-- dropoff_longitude: float (nullable = true)\n",
            " |-- dropoff_latitude: float (nullable = true)\n",
            "\n"
          ]
        }
      ],
      "source": [
        "tripWorker.schema()"
      ]
    },
    {
      "cell_type": "code",
      "execution_count": null,
      "metadata": {
        "colab": {
          "base_uri": "https://localhost:8080/"
        },
        "id": "f35fc88plsX8",
        "outputId": "5c12cac3-9a2f-44b2-cd05-15769ea63696"
      },
      "outputs": [
        {
          "output_type": "stream",
          "name": "stdout",
          "text": [
            "+-------+------------------+------------------+-----------------+-----------------+------------------+-----------------+------------------+------------------+\n",
            "|summary|         rate_code|   passenger_count|trip_time_in_secs|    trip_distance|  pickup_longitude|  pickup_latitude| dropoff_longitude|  dropoff_latitude|\n",
            "+-------+------------------+------------------+-----------------+-----------------+------------------+-----------------+------------------+------------------+\n",
            "|  count|         173179759|         173179759|        173179759|        173179759|         173179759|        173179759|         173176321|         173176321|\n",
            "|   mean|1.0337213022683558|1.7094193669596225|811.9999416964196|8.305137246352254|-72.45156327315385|39.75292675450606|-72.40810490722372|39.729983492483974|\n",
            "| stddev|0.3391333355137789|1.3767439366809253|15815.40566502589|6639.903068837679|11.291790226013376|8.780317442469093|11.417103659618059|  8.86756258675792|\n",
            "|    min|                 0|                 0|            -6480|              0.0|         -3084.296|       -3547.9207|        -3116.2698|        -3547.9207|\n",
            "|    max|               239|               255|          4294966|        1.53318E7|         2945.9587|        3310.3645|          2386.995|          3577.132|\n",
            "+-------+------------------+------------------+-----------------+-----------------+------------------+-----------------+------------------+------------------+\n",
            "\n"
          ]
        }
      ],
      "source": [
        "num_cols = [f.name for f in tripWorker.df.schema.fields if isinstance(f.dataType, t.NumericType)]\n",
        "tripWorker.df.describe(num_cols).show()"
      ]
    },
    {
      "cell_type": "code",
      "execution_count": null,
      "metadata": {
        "id": "YCO5I-sbr473"
      },
      "outputs": [],
      "source": [
        "from pyspark.sql.functions import col\n",
        "\n",
        "class TripWorker:\n",
        "    trip_schema = t.StructType([\n",
        "        t.StructField(medallion, t.StringType(), False),\n",
        "        t.StructField(hack_license, t.StringType(), False),\n",
        "        t.StructField(vendor_id, t.StringType(), False),\n",
        "        t.StructField(rate_code, t.IntegerType(), False),\n",
        "        t.StructField(store_and_fwd_flag, t.StringType(), False),\n",
        "        t.StructField(pickup_datetime, t.TimestampType(), False),\n",
        "        t.StructField(dropoff_datetime, t.TimestampType(), False),\n",
        "        t.StructField(passenger_count, t.IntegerType(), False),\n",
        "        t.StructField(trip_time_in_secs, t.IntegerType(), False),\n",
        "        t.StructField(trip_distance, t.FloatType(), False),\n",
        "        t.StructField(pickup_longitude, t.FloatType(), False),\n",
        "        t.StructField(pickup_latitude, t.FloatType(), False),\n",
        "        t.StructField(dropoff_longitude, t.FloatType(), False),\n",
        "        t.StructField(dropoff_latitude, t.FloatType(), False),\n",
        "    ])\n",
        "\n",
        "    preprocess_filter_condition = (\n",
        "            (col(passenger_count) > 0)\n",
        "            & (col(passenger_count) <= 9)\n",
        "            & (col(trip_distance) > 0)\n",
        "            & (col(trip_distance) < 70_000)\n",
        "            & (col(trip_time_in_secs) > 0)\n",
        "            & (col(trip_time_in_secs) < 60_000))\n",
        "\n",
        "    def __init__(self, spark: SparkSession):\n",
        "        self.df: DataFrame = (spark.read\n",
        "                              .csv(path_trip, self.trip_schema, header=True, ignoreLeadingWhiteSpace=True,\n",
        "                                   ignoreTrailingWhiteSpace=True, nullValue='null')\n",
        "                              .filter(self.preprocess_filter_condition))\n",
        "\n",
        "\n",
        "    def show(self, n=None):\n",
        "        self.df.show(n=n)\n",
        "\n",
        "    def count(self) -> int:\n",
        "        return self.df.count()\n",
        "\n",
        "    def schema(self):\n",
        "        self.df.printSchema()"
      ]
    },
    {
      "cell_type": "code",
      "execution_count": null,
      "metadata": {
        "id": "JnGyv8AYywmh"
      },
      "outputs": [],
      "source": [
        "tripWorker = TripWorker(spark)"
      ]
    },
    {
      "cell_type": "code",
      "execution_count": null,
      "metadata": {
        "id": "UvX_pvaHy0Jl",
        "colab": {
          "base_uri": "https://localhost:8080/"
        },
        "outputId": "8ff0c8c9-2594-4d85-d3f4-956bb013963d"
      },
      "outputs": [
        {
          "output_type": "stream",
          "name": "stdout",
          "text": [
            "+--------------------+--------------------+---------+---------+------------------+-------------------+-------------------+---------------+-----------------+-------------+----------------+---------------+-----------------+----------------+\n",
            "|           medallion|        hack_license|vendor_id|rate_code|store_and_fwd_flag|    pickup_datetime|   dropoff_datetime|passenger_count|trip_time_in_secs|trip_distance|pickup_longitude|pickup_latitude|dropoff_longitude|dropoff_latitude|\n",
            "+--------------------+--------------------+---------+---------+------------------+-------------------+-------------------+---------------+-----------------+-------------+----------------+---------------+-----------------+----------------+\n",
            "|FE7B354FEB67B9C94...|2C78614ADC9C602EC...|      CMT|        1|                 N|2013-03-01 00:00:04|2013-03-01 00:19:03|              1|             1138|         14.3|        -73.7767|      40.645164|       -73.913925|       40.772614|\n",
            "|B1370E6501ED61CED...|08BF18740B38D6472...|      CMT|        1|                 N|2013-03-01 00:00:18|2013-03-01 00:12:11|              1|              712|          3.3|       -73.98734|      40.752056|        -73.96534|        40.79272|\n",
            "|CBC20164C22B96CAF...|F3310C8DA3DB753DD...|      CMT|        1|                 N|2013-03-01 00:00:18|2013-03-01 00:14:24|              1|              845|          4.5|       -73.99149|      40.726444|       -73.980865|        40.77837|\n",
            "|B8256802A449BEF34...|DF142C5256392C3CD...|      CMT|        1|                 N|2013-03-01 00:00:23|2013-03-01 00:14:56|              1|              872|          9.0|       -73.87311|      40.774094|        -73.96093|       40.769535|\n",
            "|0F9E0728AB1E40D5C...|10D2E58D75E07D6B5...|      CMT|        1|                 N|2013-03-01 00:00:35|2013-03-01 00:05:44|              1|              308|          1.3|       -73.99056|      40.750927|        -73.98288|       40.739132|\n",
            "|D9F2D9B8520157F35...|A38CE69F84E515A71...|      CMT|        1|                 N|2013-03-01 00:00:39|2013-03-01 00:16:09|              1|              930|          4.1|       -73.98103|      40.759205|       -73.921646|       40.738354|\n",
            "|CFC0F9CE3CA2B3A53...|3DD549B1A5F1EF313...|      CMT|        1|                 N|2013-03-01 00:00:39|2013-03-01 00:10:14|              1|              574|          2.4|        -74.0001|      40.734695|        -73.97452|        40.75349|\n",
            "|9EB16B34B8DCE7409...|DF4C8A343928E47C3...|      CMT|        1|                 N|2013-03-01 00:00:51|2013-03-01 00:11:40|              1|              649|          2.8|      -73.977486|       40.73822|        -73.98891|       40.719063|\n",
            "|BFB50E2A29509C819...|5490FCCC1EEFC71E5...|      CMT|        1|                 N|2013-03-01 00:00:39|2013-03-01 00:11:58|              1|              678|          2.3|      -73.982254|       40.77077|        -73.97092|        40.74885|\n",
            "|8AD0B4FDBF2F62F88...|A1BADDEEB8F3AD973...|      CMT|        1|                 N|2013-03-01 00:04:49|2013-03-01 00:08:51|              1|              241|          1.1|       -73.95578|       40.77252|        -73.94682|       40.781628|\n",
            "|EC357E5043D2B57A5...|57E230DE0A42F3A87...|      CMT|        1|                 N|2013-03-01 00:04:57|2013-03-01 00:15:39|              2|              641|          2.0|      -73.988785|      40.722244|        -73.97982|       40.746365|\n",
            "|9202653FEF132ECCF...|A86011E8B4D0FCC19...|      CMT|        1|                 N|2013-03-01 00:05:04|2013-03-01 00:11:25|              1|              381|          1.6|       -73.96048|      40.776127|        -73.98121|        40.78064|\n",
            "|8B8D3A06CE1FAD14B...|9BC5440E1CDC10E1A...|      CMT|        1|                 N|2013-03-01 00:05:14|2013-03-01 00:19:28|              1|              853|          6.6|       -74.00892|      40.713947|        -73.91686|       40.742718|\n",
            "|46E1AE760E9E1FC15...|C21B0744AFE2EB827...|      CMT|        1|                 N|2013-03-01 00:05:14|2013-03-01 00:47:14|              1|             2519|         22.0|       -74.00079|       40.72968|        -73.78671|       40.843445|\n",
            "|3CD865423995A255E...|69365235F0D552B41...|      CMT|        1|                 N|2013-03-01 00:05:23|2013-03-01 00:20:41|              1|              917|          3.8|       -73.96016|      40.762028|        -74.00426|       40.738377|\n",
            "|5DB88689955538204...|931A02DDFF04FAAB6...|      CMT|        1|                 N|2013-03-01 00:05:30|2013-03-01 00:11:28|              1|              357|          1.7|       -73.99695|        40.7375|        -73.99031|       40.756832|\n",
            "|5B61670F3280083D3...|4A855083F444749A8...|      CMT|        1|                 N|2013-03-01 00:05:40|2013-03-01 00:18:23|              2|              763|          2.7|       -73.95063|      40.771557|       -73.985405|        40.75901|\n",
            "|BEEB676B645ABBC94...|39A226BFC4DE46B9B...|      CMT|        1|                 N|2013-03-01 00:05:41|2013-03-01 00:11:04|              1|              323|          1.3|             0.0|            0.0|              0.0|             0.0|\n",
            "|D30BED60331C79E3F...|E0F3F8A7AE1B8DCCE...|      CMT|        1|                 N|2013-03-01 00:05:48|2013-03-01 00:18:11|              1|              743|          1.8|      -73.983505|      40.761242|         -73.9936|       40.739323|\n",
            "|D886C7DC412D236CF...|9B87622D5FD8A9F31...|      CMT|        2|                 N|2013-03-01 00:05:55|2013-03-01 00:39:25|              1|             2009|         20.0|      -74.001114|      40.751873|        -74.01782|        40.85119|\n",
            "+--------------------+--------------------+---------+---------+------------------+-------------------+-------------------+---------------+-----------------+-------------+----------------+---------------+-----------------+----------------+\n",
            "only showing top 20 rows\n",
            "\n"
          ]
        }
      ],
      "source": [
        "tripWorker.df.show()"
      ]
    },
    {
      "cell_type": "code",
      "execution_count": null,
      "metadata": {
        "id": "AZnMO90Ay4c_",
        "colab": {
          "base_uri": "https://localhost:8080/"
        },
        "outputId": "191e6be4-cb65-4bc5-fdc3-5699bd1a81df"
      },
      "outputs": [
        {
          "output_type": "stream",
          "name": "stdout",
          "text": [
            "+-------+-------------------+------------------+-----------------+------------------+------------------+------------------+------------------+------------------+\n",
            "|summary|          rate_code|   passenger_count|trip_time_in_secs|     trip_distance|  pickup_longitude|   pickup_latitude| dropoff_longitude|  dropoff_latitude|\n",
            "+-------+-------------------+------------------+-----------------+------------------+------------------+------------------+------------------+------------------+\n",
            "|  count|          171899205|         171899205|        171899205|         171899205|         171899205|         171899205|         171899205|         171899205|\n",
            "|   mean| 1.0270787523421065|1.7116061647870913|757.7813952775407|2.9229047508589625|-72.55375877214988|39.808676497132566|-72.55916906300425|39.812565326362915|\n",
            "| stddev|0.30057568678750834|1.3771786361954093|560.5441541100786|20.957479508723758|10.967169280209196| 8.655816513663163|10.938848778547413| 8.685174083633767|\n",
            "|    min|                  0|                 1|                1|              0.01|         -3084.296|        -3547.9207|        -3116.2698|        -3547.9207|\n",
            "|    max|                221|                 9|            52620|           63318.0|         2945.9587|         3310.3645|          2386.995|          3577.132|\n",
            "+-------+-------------------+------------------+-----------------+------------------+------------------+------------------+------------------+------------------+\n",
            "\n"
          ]
        }
      ],
      "source": [
        "num_cols = [f.name for f in tripWorker.df.schema.fields if isinstance(f.dataType, t.NumericType)]\n",
        "tripWorker.df.describe(num_cols).show()"
      ]
    },
    {
      "cell_type": "code",
      "execution_count": null,
      "metadata": {
        "id": "9LFTrDevJJz0"
      },
      "outputs": [],
      "source": [
        "path_fare = '/content/drive/Shareddrives/Big Data/trip_fare'"
      ]
    },
    {
      "cell_type": "code",
      "execution_count": null,
      "metadata": {
        "id": "f-9upHGY8VPL"
      },
      "outputs": [],
      "source": [
        "class FareWorker:\n",
        "    fare_schema = t.StructType([\n",
        "        t.StructField(medallion, t.StringType(), False),\n",
        "        t.StructField(hack_license, t.StringType(), False),\n",
        "        t.StructField(vendor_id, t.StringType(), False),\n",
        "        t.StructField(pickup_datetime, t.TimestampType(), False),\n",
        "        t.StructField(payment_type, t.StringType(), False),\n",
        "        t.StructField(fare_amount, t.FloatType(), False),\n",
        "        t.StructField(surcharge, t.FloatType(), False),\n",
        "        t.StructField(mta_tax, t.FloatType(), False),\n",
        "        t.StructField(tip_amount, t.FloatType(), False),\n",
        "        t.StructField(tolls_amount, t.FloatType(), False),\n",
        "        t.StructField(total_amount, t.FloatType(), False),\n",
        "    ])\n",
        "\n",
        "    def __init__(self, spark: SparkSession):\n",
        "        self.df = (spark.read\n",
        "                   .csv(path_fare, self.fare_schema, header=True, ignoreTrailingWhiteSpace=True,\n",
        "                        ignoreLeadingWhiteSpace=True, nullValue='null'))\n",
        "\n",
        "    def show(self):\n",
        "        self.df.show()\n",
        "\n",
        "    def count(self) -> int:\n",
        "        return self.df.count()\n",
        "\n",
        "    def schema(self):\n",
        "        self.df.printSchema()"
      ]
    },
    {
      "cell_type": "code",
      "execution_count": null,
      "metadata": {
        "id": "dGKZK2La8_NG"
      },
      "outputs": [],
      "source": [
        "fareWorker = FareWorker(spark)"
      ]
    },
    {
      "cell_type": "code",
      "execution_count": null,
      "metadata": {
        "id": "UAbfkbqw97Tm",
        "colab": {
          "base_uri": "https://localhost:8080/"
        },
        "outputId": "cb402377-ae81-46f6-d955-eefb48555f8e"
      },
      "outputs": [
        {
          "output_type": "stream",
          "name": "stdout",
          "text": [
            "+--------------------+--------------------+---------+-------------------+------------+-----------+---------+-------+----------+------------+------------+\n",
            "|           medallion|        hack_license|vendor_id|    pickup_datetime|payment_type|fare_amount|surcharge|mta_tax|tip_amount|tolls_amount|total_amount|\n",
            "+--------------------+--------------------+---------+-------------------+------------+-----------+---------+-------+----------+------------+------------+\n",
            "|89D227B655E5C82AE...|BA96DE419E711691B...|      CMT|2013-01-01 15:11:48|         CSH|        6.5|      0.0|    0.5|       0.0|         0.0|         7.0|\n",
            "|0BD7C8F5BA12B88E0...|9FD8F69F0804BDB55...|      CMT|2013-01-06 00:18:35|         CSH|        6.0|      0.5|    0.5|       0.0|         0.0|         7.0|\n",
            "|0BD7C8F5BA12B88E0...|9FD8F69F0804BDB55...|      CMT|2013-01-05 18:49:41|         CSH|        5.5|      1.0|    0.5|       0.0|         0.0|         7.0|\n",
            "|DFD2202EE08F7A8DC...|51EE87E3205C985EF...|      CMT|2013-01-07 23:54:15|         CSH|        5.0|      0.5|    0.5|       0.0|         0.0|         6.0|\n",
            "|DFD2202EE08F7A8DC...|51EE87E3205C985EF...|      CMT|2013-01-07 23:25:03|         CSH|        9.5|      0.5|    0.5|       0.0|         0.0|        10.5|\n",
            "|20D9ECB2CA0767CF7...|598CCE5B9C1918568...|      CMT|2013-01-07 15:27:48|         CSH|        9.5|      0.0|    0.5|       0.0|         0.0|        10.0|\n",
            "|496644932DF393260...|513189AD756FF14FE...|      CMT|2013-01-08 11:01:15|         CSH|        6.0|      0.0|    0.5|       0.0|         0.0|         6.5|\n",
            "|0B57B9633A2FECD3D...|CCD4367B417ED6634...|      CMT|2013-01-07 12:39:18|         CSH|       34.0|      0.0|    0.5|       0.0|         4.8|        39.3|\n",
            "|2C0E91FF20A856C89...|1DA2F6543A62B8ED9...|      CMT|2013-01-07 18:15:47|         CSH|        5.5|      1.0|    0.5|       0.0|         0.0|         7.0|\n",
            "|2D4B95E2FA7B2E851...|CD2F522EEE1FF5F5A...|      CMT|2013-01-07 15:33:28|         CSH|       13.0|      0.0|    0.5|       0.0|         0.0|        13.5|\n",
            "|E12F6AF991172EAC3...|06918214E951FA000...|      CMT|2013-01-08 13:11:52|         CSH|        7.5|      0.0|    0.5|       0.0|         0.0|         8.0|\n",
            "|E12F6AF991172EAC3...|06918214E951FA000...|      CMT|2013-01-08 09:50:05|         CSH|        9.0|      0.0|    0.5|       0.0|         0.0|         9.5|\n",
            "|78FFD9CD0CDA541F3...|E949C583ECF62C8F0...|      CMT|2013-01-10 12:07:08|         CSH|        9.5|      0.0|    0.5|       0.0|         0.0|        10.0|\n",
            "|237F49C3ECC11F502...|93C363DDF8ED9385D...|      CMT|2013-01-07 07:35:47|         CSH|       10.0|      0.0|    0.5|       0.0|         0.0|        10.5|\n",
            "|3349F919AA8AE5DC9...|7CE849FEF67514F08...|      CMT|2013-01-10 15:42:29|         CSH|       15.5|      0.0|    0.5|       0.0|         0.0|        16.0|\n",
            "|3349F919AA8AE5DC9...|7CE849FEF67514F08...|      CMT|2013-01-10 14:27:28|         CSH|       16.5|      0.0|    0.5|       0.0|         0.0|        17.0|\n",
            "|4C005EEBAA7BF26B8...|351BE7D984BE17DB2...|      CMT|2013-01-07 22:09:59|         CSH|        9.0|      0.5|    0.5|       0.0|         0.0|        10.0|\n",
            "|7D99C30FCE69B1A9D...|460C3F57DD9CB2265...|      CMT|2013-01-07 17:18:16|         CSH|        4.5|      1.0|    0.5|       0.0|         0.0|         6.0|\n",
            "|E6FBF80668FE0611A...|36773E80775F26CD1...|      CMT|2013-01-07 06:08:51|         CSH|        7.0|      0.0|    0.5|       0.0|         0.0|         7.5|\n",
            "|0C5296F3C8B16E702...|D2363240A9295EF57...|      CMT|2013-01-07 22:25:46|         CSH|       10.5|      0.5|    0.5|       0.0|         0.0|        11.5|\n",
            "+--------------------+--------------------+---------+-------------------+------------+-----------+---------+-------+----------+------------+------------+\n",
            "only showing top 20 rows\n",
            "\n"
          ]
        }
      ],
      "source": [
        "fareWorker.df.show()"
      ]
    },
    {
      "cell_type": "code",
      "execution_count": null,
      "metadata": {
        "id": "XJlV4nJP9-v5",
        "colab": {
          "base_uri": "https://localhost:8080/"
        },
        "outputId": "5d3c36e7-cc8f-4f7b-80db-33a971982552"
      },
      "outputs": [
        {
          "output_type": "stream",
          "name": "stdout",
          "text": [
            "root\n",
            " |-- medallion: string (nullable = true)\n",
            " |-- hack_license: string (nullable = true)\n",
            " |-- vendor_id: string (nullable = true)\n",
            " |-- pickup_datetime: timestamp (nullable = true)\n",
            " |-- payment_type: string (nullable = true)\n",
            " |-- fare_amount: float (nullable = true)\n",
            " |-- surcharge: float (nullable = true)\n",
            " |-- mta_tax: float (nullable = true)\n",
            " |-- tip_amount: float (nullable = true)\n",
            " |-- tolls_amount: float (nullable = true)\n",
            " |-- total_amount: float (nullable = true)\n",
            "\n"
          ]
        }
      ],
      "source": [
        "fareWorker.schema()"
      ]
    },
    {
      "cell_type": "code",
      "execution_count": null,
      "metadata": {
        "colab": {
          "base_uri": "https://localhost:8080/",
          "height": 515
        },
        "id": "zUttksNv-EHI",
        "outputId": "228e3f40-0660-48da-f197-a11b36d7a776"
      },
      "outputs": [
        {
          "output_type": "stream",
          "name": "stderr",
          "text": [
            "ERROR:root:KeyboardInterrupt while sending command.\n",
            "Traceback (most recent call last):\n",
            "  File \"/usr/local/lib/python3.10/dist-packages/py4j/java_gateway.py\", line 1038, in send_command\n",
            "    response = connection.send_command(command)\n",
            "  File \"/usr/local/lib/python3.10/dist-packages/py4j/clientserver.py\", line 511, in send_command\n",
            "    answer = smart_decode(self.stream.readline()[:-1])\n",
            "  File \"/usr/lib/python3.10/socket.py\", line 705, in readinto\n",
            "    return self._sock.recv_into(b)\n",
            "KeyboardInterrupt\n"
          ]
        },
        {
          "output_type": "error",
          "ename": "KeyboardInterrupt",
          "evalue": "ignored",
          "traceback": [
            "\u001b[0;31m---------------------------------------------------------------------------\u001b[0m",
            "\u001b[0;31mKeyboardInterrupt\u001b[0m                         Traceback (most recent call last)",
            "\u001b[0;32m<ipython-input-106-23dbcedfd309>\u001b[0m in \u001b[0;36m<cell line: 2>\u001b[0;34m()\u001b[0m\n\u001b[1;32m      1\u001b[0m \u001b[0mnum_cols\u001b[0m \u001b[0;34m=\u001b[0m \u001b[0;34m[\u001b[0m\u001b[0mf\u001b[0m\u001b[0;34m.\u001b[0m\u001b[0mname\u001b[0m \u001b[0;32mfor\u001b[0m \u001b[0mf\u001b[0m \u001b[0;32min\u001b[0m \u001b[0mfareWorker\u001b[0m\u001b[0;34m.\u001b[0m\u001b[0mdf\u001b[0m\u001b[0;34m.\u001b[0m\u001b[0mschema\u001b[0m\u001b[0;34m.\u001b[0m\u001b[0mfields\u001b[0m \u001b[0;32mif\u001b[0m \u001b[0misinstance\u001b[0m\u001b[0;34m(\u001b[0m\u001b[0mf\u001b[0m\u001b[0;34m.\u001b[0m\u001b[0mdataType\u001b[0m\u001b[0;34m,\u001b[0m \u001b[0mt\u001b[0m\u001b[0;34m.\u001b[0m\u001b[0mNumericType\u001b[0m\u001b[0;34m)\u001b[0m\u001b[0;34m]\u001b[0m\u001b[0;34m\u001b[0m\u001b[0;34m\u001b[0m\u001b[0m\n\u001b[0;32m----> 2\u001b[0;31m \u001b[0mfareWorker\u001b[0m\u001b[0;34m.\u001b[0m\u001b[0mdf\u001b[0m\u001b[0;34m.\u001b[0m\u001b[0mdescribe\u001b[0m\u001b[0;34m(\u001b[0m\u001b[0mnum_cols\u001b[0m\u001b[0;34m)\u001b[0m\u001b[0;34m.\u001b[0m\u001b[0mshow\u001b[0m\u001b[0;34m(\u001b[0m\u001b[0;34m)\u001b[0m\u001b[0;34m\u001b[0m\u001b[0;34m\u001b[0m\u001b[0m\n\u001b[0m",
            "\u001b[0;32m/usr/local/lib/python3.10/dist-packages/pyspark/sql/dataframe.py\u001b[0m in \u001b[0;36mshow\u001b[0;34m(self, n, truncate, vertical)\u001b[0m\n\u001b[1;32m    957\u001b[0m \u001b[0;34m\u001b[0m\u001b[0m\n\u001b[1;32m    958\u001b[0m         \u001b[0;32mif\u001b[0m \u001b[0misinstance\u001b[0m\u001b[0;34m(\u001b[0m\u001b[0mtruncate\u001b[0m\u001b[0;34m,\u001b[0m \u001b[0mbool\u001b[0m\u001b[0;34m)\u001b[0m \u001b[0;32mand\u001b[0m \u001b[0mtruncate\u001b[0m\u001b[0;34m:\u001b[0m\u001b[0;34m\u001b[0m\u001b[0;34m\u001b[0m\u001b[0m\n\u001b[0;32m--> 959\u001b[0;31m             \u001b[0mprint\u001b[0m\u001b[0;34m(\u001b[0m\u001b[0mself\u001b[0m\u001b[0;34m.\u001b[0m\u001b[0m_jdf\u001b[0m\u001b[0;34m.\u001b[0m\u001b[0mshowString\u001b[0m\u001b[0;34m(\u001b[0m\u001b[0mn\u001b[0m\u001b[0;34m,\u001b[0m \u001b[0;36m20\u001b[0m\u001b[0;34m,\u001b[0m \u001b[0mvertical\u001b[0m\u001b[0;34m)\u001b[0m\u001b[0;34m)\u001b[0m\u001b[0;34m\u001b[0m\u001b[0;34m\u001b[0m\u001b[0m\n\u001b[0m\u001b[1;32m    960\u001b[0m         \u001b[0;32melse\u001b[0m\u001b[0;34m:\u001b[0m\u001b[0;34m\u001b[0m\u001b[0;34m\u001b[0m\u001b[0m\n\u001b[1;32m    961\u001b[0m             \u001b[0;32mtry\u001b[0m\u001b[0;34m:\u001b[0m\u001b[0;34m\u001b[0m\u001b[0;34m\u001b[0m\u001b[0m\n",
            "\u001b[0;32m/usr/local/lib/python3.10/dist-packages/py4j/java_gateway.py\u001b[0m in \u001b[0;36m__call__\u001b[0;34m(self, *args)\u001b[0m\n\u001b[1;32m   1319\u001b[0m             \u001b[0mproto\u001b[0m\u001b[0;34m.\u001b[0m\u001b[0mEND_COMMAND_PART\u001b[0m\u001b[0;34m\u001b[0m\u001b[0;34m\u001b[0m\u001b[0m\n\u001b[1;32m   1320\u001b[0m \u001b[0;34m\u001b[0m\u001b[0m\n\u001b[0;32m-> 1321\u001b[0;31m         \u001b[0manswer\u001b[0m \u001b[0;34m=\u001b[0m \u001b[0mself\u001b[0m\u001b[0;34m.\u001b[0m\u001b[0mgateway_client\u001b[0m\u001b[0;34m.\u001b[0m\u001b[0msend_command\u001b[0m\u001b[0;34m(\u001b[0m\u001b[0mcommand\u001b[0m\u001b[0;34m)\u001b[0m\u001b[0;34m\u001b[0m\u001b[0;34m\u001b[0m\u001b[0m\n\u001b[0m\u001b[1;32m   1322\u001b[0m         return_value = get_return_value(\n\u001b[1;32m   1323\u001b[0m             answer, self.gateway_client, self.target_id, self.name)\n",
            "\u001b[0;32m/usr/local/lib/python3.10/dist-packages/py4j/java_gateway.py\u001b[0m in \u001b[0;36msend_command\u001b[0;34m(self, command, retry, binary)\u001b[0m\n\u001b[1;32m   1036\u001b[0m         \u001b[0mconnection\u001b[0m \u001b[0;34m=\u001b[0m \u001b[0mself\u001b[0m\u001b[0;34m.\u001b[0m\u001b[0m_get_connection\u001b[0m\u001b[0;34m(\u001b[0m\u001b[0;34m)\u001b[0m\u001b[0;34m\u001b[0m\u001b[0;34m\u001b[0m\u001b[0m\n\u001b[1;32m   1037\u001b[0m         \u001b[0;32mtry\u001b[0m\u001b[0;34m:\u001b[0m\u001b[0;34m\u001b[0m\u001b[0;34m\u001b[0m\u001b[0m\n\u001b[0;32m-> 1038\u001b[0;31m             \u001b[0mresponse\u001b[0m \u001b[0;34m=\u001b[0m \u001b[0mconnection\u001b[0m\u001b[0;34m.\u001b[0m\u001b[0msend_command\u001b[0m\u001b[0;34m(\u001b[0m\u001b[0mcommand\u001b[0m\u001b[0;34m)\u001b[0m\u001b[0;34m\u001b[0m\u001b[0;34m\u001b[0m\u001b[0m\n\u001b[0m\u001b[1;32m   1039\u001b[0m             \u001b[0;32mif\u001b[0m \u001b[0mbinary\u001b[0m\u001b[0;34m:\u001b[0m\u001b[0;34m\u001b[0m\u001b[0;34m\u001b[0m\u001b[0m\n\u001b[1;32m   1040\u001b[0m                 \u001b[0;32mreturn\u001b[0m \u001b[0mresponse\u001b[0m\u001b[0;34m,\u001b[0m \u001b[0mself\u001b[0m\u001b[0;34m.\u001b[0m\u001b[0m_create_connection_guard\u001b[0m\u001b[0;34m(\u001b[0m\u001b[0mconnection\u001b[0m\u001b[0;34m)\u001b[0m\u001b[0;34m\u001b[0m\u001b[0;34m\u001b[0m\u001b[0m\n",
            "\u001b[0;32m/usr/local/lib/python3.10/dist-packages/py4j/clientserver.py\u001b[0m in \u001b[0;36msend_command\u001b[0;34m(self, command)\u001b[0m\n\u001b[1;32m    509\u001b[0m         \u001b[0;32mtry\u001b[0m\u001b[0;34m:\u001b[0m\u001b[0;34m\u001b[0m\u001b[0;34m\u001b[0m\u001b[0m\n\u001b[1;32m    510\u001b[0m             \u001b[0;32mwhile\u001b[0m \u001b[0;32mTrue\u001b[0m\u001b[0;34m:\u001b[0m\u001b[0;34m\u001b[0m\u001b[0;34m\u001b[0m\u001b[0m\n\u001b[0;32m--> 511\u001b[0;31m                 \u001b[0manswer\u001b[0m \u001b[0;34m=\u001b[0m \u001b[0msmart_decode\u001b[0m\u001b[0;34m(\u001b[0m\u001b[0mself\u001b[0m\u001b[0;34m.\u001b[0m\u001b[0mstream\u001b[0m\u001b[0;34m.\u001b[0m\u001b[0mreadline\u001b[0m\u001b[0;34m(\u001b[0m\u001b[0;34m)\u001b[0m\u001b[0;34m[\u001b[0m\u001b[0;34m:\u001b[0m\u001b[0;34m-\u001b[0m\u001b[0;36m1\u001b[0m\u001b[0;34m]\u001b[0m\u001b[0;34m)\u001b[0m\u001b[0;34m\u001b[0m\u001b[0;34m\u001b[0m\u001b[0m\n\u001b[0m\u001b[1;32m    512\u001b[0m                 \u001b[0mlogger\u001b[0m\u001b[0;34m.\u001b[0m\u001b[0mdebug\u001b[0m\u001b[0;34m(\u001b[0m\u001b[0;34m\"Answer received: {0}\"\u001b[0m\u001b[0;34m.\u001b[0m\u001b[0mformat\u001b[0m\u001b[0;34m(\u001b[0m\u001b[0manswer\u001b[0m\u001b[0;34m)\u001b[0m\u001b[0;34m)\u001b[0m\u001b[0;34m\u001b[0m\u001b[0;34m\u001b[0m\u001b[0m\n\u001b[1;32m    513\u001b[0m                 \u001b[0;31m# Happens when a the other end is dead. There might be an empty\u001b[0m\u001b[0;34m\u001b[0m\u001b[0;34m\u001b[0m\u001b[0m\n",
            "\u001b[0;32m/usr/lib/python3.10/socket.py\u001b[0m in \u001b[0;36mreadinto\u001b[0;34m(self, b)\u001b[0m\n\u001b[1;32m    703\u001b[0m         \u001b[0;32mwhile\u001b[0m \u001b[0;32mTrue\u001b[0m\u001b[0;34m:\u001b[0m\u001b[0;34m\u001b[0m\u001b[0;34m\u001b[0m\u001b[0m\n\u001b[1;32m    704\u001b[0m             \u001b[0;32mtry\u001b[0m\u001b[0;34m:\u001b[0m\u001b[0;34m\u001b[0m\u001b[0;34m\u001b[0m\u001b[0m\n\u001b[0;32m--> 705\u001b[0;31m                 \u001b[0;32mreturn\u001b[0m \u001b[0mself\u001b[0m\u001b[0;34m.\u001b[0m\u001b[0m_sock\u001b[0m\u001b[0;34m.\u001b[0m\u001b[0mrecv_into\u001b[0m\u001b[0;34m(\u001b[0m\u001b[0mb\u001b[0m\u001b[0;34m)\u001b[0m\u001b[0;34m\u001b[0m\u001b[0;34m\u001b[0m\u001b[0m\n\u001b[0m\u001b[1;32m    706\u001b[0m             \u001b[0;32mexcept\u001b[0m \u001b[0mtimeout\u001b[0m\u001b[0;34m:\u001b[0m\u001b[0;34m\u001b[0m\u001b[0;34m\u001b[0m\u001b[0m\n\u001b[1;32m    707\u001b[0m                 \u001b[0mself\u001b[0m\u001b[0;34m.\u001b[0m\u001b[0m_timeout_occurred\u001b[0m \u001b[0;34m=\u001b[0m \u001b[0;32mTrue\u001b[0m\u001b[0;34m\u001b[0m\u001b[0;34m\u001b[0m\u001b[0m\n",
            "\u001b[0;31mKeyboardInterrupt\u001b[0m: "
          ]
        }
      ],
      "source": [
        "num_cols = [f.name for f in fareWorker.df.schema.fields if isinstance(f.dataType, t.NumericType)]\n",
        "fareWorker.df.describe(num_cols).show()"
      ]
    },
    {
      "cell_type": "code",
      "execution_count": null,
      "metadata": {
        "id": "wyshfFPpJMT4"
      },
      "outputs": [],
      "source": [
        "from pyspark.sql.functions import col\n",
        "\n",
        "class FareWorker:\n",
        "    fare_schema = t.StructType([\n",
        "        t.StructField(medallion, t.StringType(), False),\n",
        "        t.StructField(hack_license, t.StringType(), False),\n",
        "        t.StructField(vendor_id, t.StringType(), False),\n",
        "        t.StructField(pickup_datetime, t.TimestampType(), False),\n",
        "        t.StructField(payment_type, t.StringType(), False),\n",
        "        t.StructField(fare_amount, t.FloatType(), False),\n",
        "        t.StructField(surcharge, t.FloatType(), False),\n",
        "        t.StructField(mta_tax, t.FloatType(), False),\n",
        "        t.StructField(tip_amount, t.FloatType(), False),\n",
        "        t.StructField(tolls_amount, t.FloatType(), False),\n",
        "        t.StructField(total_amount, t.FloatType(), False),\n",
        "    ])\n",
        "\n",
        "    preprocess_filter_condition = (\n",
        "            (col(fare_amount) > 0)\n",
        "            & (col(surcharge) > 0)\n",
        "            & (col(mta_tax) > 0)\n",
        "            & (col(tip_amount) > 0)\n",
        "            & (col(tolls_amount) > 0)\n",
        "            & (col(total_amount) > 0))\n",
        "\n",
        "    def __init__(self, spark: SparkSession):\n",
        "        self.df = (spark.read\n",
        "                   .csv(path_fare, self.fare_schema, header=True, ignoreTrailingWhiteSpace=True,\n",
        "                        ignoreLeadingWhiteSpace=True, nullValue='null')\n",
        "                   .filter(self.preprocess_filter_condition))\n",
        "\n",
        "    def show(self):\n",
        "        self.df.show()\n",
        "\n",
        "    def count(self) -> int:\n",
        "        return self.df.count()\n",
        "\n",
        "    def schema(self):\n",
        "        self.df.printSchema()"
      ]
    },
    {
      "cell_type": "code",
      "execution_count": null,
      "metadata": {
        "id": "zSdQPJTfJvC_"
      },
      "outputs": [],
      "source": [
        "fareWorker = FareWorker(spark)"
      ]
    },
    {
      "cell_type": "code",
      "execution_count": null,
      "metadata": {
        "id": "8qUTBTg-Jzbo",
        "colab": {
          "base_uri": "https://localhost:8080/"
        },
        "outputId": "12c2f3cf-147a-4408-9b3d-bbb0390ea8cc"
      },
      "outputs": [
        {
          "output_type": "stream",
          "name": "stdout",
          "text": [
            "+--------------------+--------------------+---------+-------------------+------------+-----------+---------+-------+----------+------------+------------+\n",
            "|           medallion|        hack_license|vendor_id|    pickup_datetime|payment_type|fare_amount|surcharge|mta_tax|tip_amount|tolls_amount|total_amount|\n",
            "+--------------------+--------------------+---------+-------------------+------------+-----------+---------+-------+----------+------------+------------+\n",
            "|F1C63842BC47D1C30...|9D0A6E44AF6C07CD7...|      VTS|2013-01-13 04:14:00|         CRD|       32.0|      0.5|    0.5|       6.5|         6.5|        46.0|\n",
            "|ED9B6E969C35E1631...|1067C6EE7965AACBC...|      VTS|2013-01-13 03:46:00|         CRD|      107.5|      0.5|    0.5|      21.6|         4.8|       134.9|\n",
            "|203F59092282F76DA...|711947488A628488F...|      VTS|2013-01-13 04:22:00|         CRD|       33.0|      0.5|    0.5|       6.7|         2.2|        42.9|\n",
            "|AF654FCA5D10F5E1A...|47EB5C6F23BFD50C4...|      VTS|2013-01-13 04:46:00|         CRD|       29.5|      0.5|    0.5|       6.0|         4.8|        41.3|\n",
            "|53528D75D25F5F8F5...|A70151E679D2DA570...|      VTS|2013-01-13 04:28:00|         CRD|        9.0|      0.5|    0.5|       3.0|         4.8|        17.8|\n",
            "|6B6565187F637156C...|21C120E881AE9EE42...|      VTS|2013-01-13 04:05:00|         CRD|       40.5|      0.5|    0.5|       8.2|         4.8|        54.5|\n",
            "|E2D6C0CAB2A29F2E5...|BCEA3A51360CB6297...|      VTS|2013-01-13 04:03:00|         CRD|       56.0|      0.5|    0.5|      11.3|         4.8|        73.1|\n",
            "|37FBBEFC47751F81B...|846DDE5D7AFE3AE43...|      VTS|2013-01-13 05:07:00|         CRD|       36.5|      0.5|    0.5|       7.4|         4.8|        49.7|\n",
            "|D629A960F38A79DB5...|F30AB4AFAB75AFF55...|      VTS|2013-01-13 04:12:00|         CRD|       17.5|      0.5|    0.5|      12.0|         4.8|        35.3|\n",
            "|418E2E585E5369B5A...|DD9ABBF45EC86DFD0...|      VTS|2013-01-13 01:22:00|         CRD|       18.0|      0.5|    0.5|       3.7|         4.8|        27.5|\n",
            "|02B196981B24858BC...|0F59524A877485E8D...|      VTS|2013-01-13 04:40:00|         CRD|       25.5|      0.5|    0.5|       6.5|         4.8|        37.8|\n",
            "|DA671662DDB63E5B0...|CF4F0F538BDDDBAC2...|      VTS|2013-01-13 04:37:00|         CRD|       23.5|      0.5|    0.5|       6.0|         4.8|        35.3|\n",
            "|1CA1F43CA75E2744B...|CA54FEB44F424C224...|      VTS|2013-01-13 04:38:00|         CRD|       23.0|      0.5|    0.5|       2.0|         4.8|        30.8|\n",
            "|6EE8AD850CF630A12...|D4A09EE77B0510B36...|      VTS|2013-01-13 02:02:00|         CRD|       17.5|      0.5|    0.5|       1.0|         4.8|        24.3|\n",
            "|AB89F24DEC0C91478...|2425707174DD16E57...|      VTS|2013-01-13 03:33:00|         CRD|       41.0|      0.5|    0.5|     10.38|         9.6|       61.98|\n",
            "|5DFA10705410FA86E...|24D86F1D5547AE45D...|      VTS|2013-01-13 03:48:00|         CRD|       23.0|      0.5|    0.5|       4.7|         4.8|        33.5|\n",
            "|FF40FB8123940D9F9...|BCC499AE77C7D8E53...|      VTS|2013-01-13 04:41:00|         CRD|       31.5|      0.5|    0.5|       6.4|         2.2|        41.1|\n",
            "|E5C4E648BEFADFF31...|FEBC07C04098C3C35...|      VTS|2013-01-13 04:36:00|         CRD|       34.0|      0.5|    0.5|       6.9|         4.8|        46.7|\n",
            "|0382E229B8353ED19...|3C6BF386EFCEAA0C3...|      VTS|2013-01-13 04:15:00|         CRD|       61.0|      0.5|    0.5|       7.0|         4.8|        73.8|\n",
            "|D8355B560482C567F...|E320A790E83534810...|      VTS|2013-01-13 04:39:00|         CRD|       32.0|      0.5|    0.5|      9.75|         9.6|       52.35|\n",
            "+--------------------+--------------------+---------+-------------------+------------+-----------+---------+-------+----------+------------+------------+\n",
            "only showing top 20 rows\n",
            "\n"
          ]
        }
      ],
      "source": [
        "fareWorker.df.show()"
      ]
    },
    {
      "cell_type": "code",
      "execution_count": null,
      "metadata": {
        "id": "DL_zxxVLBiAb"
      },
      "outputs": [],
      "source": [
        " num_cols = [f.name for f in fareWorker.df.schema.fields if isinstance(f.dataType, t.NumericType)]\n",
        "fareWorker.df.describe(num_cols).show()"
      ]
    },
    {
      "cell_type": "markdown",
      "metadata": {
        "id": "USUgFF6cKCMa"
      },
      "source": [
        "**Запити**"
      ]
    },
    {
      "cell_type": "markdown",
      "metadata": {
        "id": "DPq3xD4qtDKT"
      },
      "source": [
        "*Ляховський Даниїл*"
      ]
    },
    {
      "cell_type": "code",
      "execution_count": null,
      "metadata": {
        "id": "Z9r4oEy1KGM8"
      },
      "outputs": [],
      "source": [
        "from pyspark.sql import Window\n",
        "from pyspark.sql.functions import col, avg, min, month, hour, count, lit, when\n",
        "\n",
        "#Query 1: The average payment and average tip for each type of payment\n",
        "def avg_income_by_payment_type(self):\n",
        "        return (self.df\n",
        "                .groupBy(col(payment_type))\n",
        "                .agg(avg(total_amount).alias('avg_total_amount_by_payment_type'), avg(tip_amount).alias('avg_tip_amount_by_payment_type'))\n",
        "                .orderBy('avg_total_amount_by_payment_type'))\n",
        "\n",
        "#Query 2: Average duration and trip distance depending on the number of passengers\n",
        "def avg_trip_by_passenger_count(self):\n",
        "    return (self.df\n",
        "            .groupBy(col(passenger_count))\n",
        "            .agg((avg(col(trip_time_in_secs))/60).alias('avg_trip_duration_in_minutes'), avg(trip_distance).alias('avg_trip_distance_in_meters'))\n",
        "            .orderBy('passenger_count'))\n",
        "\n",
        "#Query 3: The number of trips according to each hour of the day\n",
        "def trips_by_hour_of_day(self):\n",
        "    return (self.df\n",
        "            .withColumn('hour_of_day', hour(col(pickup_datetime)))\n",
        "            .groupBy('hour_of_day')\n",
        "            .count()\n",
        "            .orderBy('hour_of_day'))\n",
        "\n",
        "#Query 4: Average fare and number of trips per month\n",
        "def avg_fare_and_trip_count_by_month(self, fare_df: DataFrame):\n",
        "    return (self.df\n",
        "            .join(fare_df,\n",
        "                  (self.df['hack_license'] == fare_df['hack_license'])\n",
        "                  & (self.df['pickup_datetime'] == fare_df['pickup_datetime']),\n",
        "                  how='inner')\n",
        "            .groupBy(month(self.df['pickup_datetime']).alias('pickup_month'))\n",
        "            .agg(avg(fare_df['fare_amount']).alias('avg_fare_amount'),\n",
        "                 count(lit(1)).alias('trip_count'))\n",
        "            .orderBy('pickup_month'))\n",
        "#Query 5:\n",
        "def average_passenger_count(self, fare_df: DataFrame):\n",
        "    window = Window.orderBy(col('hack_license'), col('pickup_datetime'))\n",
        "    return (self.df\n",
        "            .join(fare_df,\n",
        "                  (self.df['hack_license'] == fare_df['hack_license'])\n",
        "                  & (self.df['pickup_datetime'] == fare_df['pickup_datetime']),\n",
        "                  how='inner')\n",
        "            .withColumn('average_total_amount',\n",
        "                        avg(fare_df['total_amount']).over(window))\n",
        "            .withColumn('average_tip_amount',\n",
        "                        avg(fare_df['tip_amount']).over(window))\n",
        "            .select('medallion', 'hack_license', 'pickup_datetime', 'passenger_count', 'average_tip_amount', 'average_total_amount'))\n",
        "\n",
        "#Query 6: Information about trips on December 31\n",
        "def trips_info_on_december_31(self, fare_df: DataFrame):\n",
        "    merged_df = self.df.alias(\"trip\").join(fare_df.alias(\"fare\"),\n",
        "                                           (col(\"trip.medallion\") == col(\"fare.medallion\"))\n",
        "                                           & (col(\"trip.hack_license\") == col(\"fare.hack_license\"))\n",
        "                                           & (col(\"trip.pickup_datetime\") == col(\"fare.pickup_datetime\")),\n",
        "                                           how='inner')\n",
        "    window = Window.orderBy(col('trip.pickup_datetime')).partitionBy(col('trip.hack_license'))\n",
        "    december_31_trips = merged_df.filter((col('trip.pickup_datetime').like('2013-12-31%')))\n",
        "    result_df = (december_31_trips\n",
        "                 .withColumn('total_amount_december_31', sum(col('fare.total_amount')).over(window))\n",
        "                 .withColumn('tip_amount_december_31', sum(col('fare.tip_amount')).over(window))\n",
        "                 .withColumn('trip_count_december_31', count(when(col('fare.total_amount').isNotNull(), 1)).over(window))\n",
        "                 .select('trip.medallion', 'trip.hack_license', 'trip.vendor_id', 'trip.pickup_datetime',\n",
        "                         'trip.dropoff_datetime', 'trip.trip_distance', 'trip.passenger_count',\n",
        "                         'total_amount_december_31', 'tip_amount_december_31', 'trip_count_december_31',\n",
        "                         'fare.fare_amount'))\n",
        "    return result_df\n",
        "\n",
        "\n",
        "FareWorker.avg_income_by_payment_type = avg_income_by_payment_type\n",
        "TripWorker.avg_trip_by_passenger_count = avg_trip_by_passenger_count\n",
        "TripWorker.trips_by_hour_of_day = trips_by_hour_of_day\n",
        "TripWorker.avg_fare_and_trip_count_by_month = avg_fare_and_trip_count_by_month\n",
        "TripWorker.average_passenger_count = average_passenger_count\n",
        "TripWorker.trips_info_on_december_31 = trips_info_on_december_31"
      ]
    },
    {
      "cell_type": "code",
      "execution_count": null,
      "metadata": {
        "colab": {
          "base_uri": "https://localhost:8080/"
        },
        "id": "oUlgftSUKc7j",
        "outputId": "3c5f06d3-8f03-41d4-e7a8-f6786f8cf411"
      },
      "outputs": [
        {
          "name": "stdout",
          "output_type": "stream",
          "text": [
            "+------------+--------------------------------+------------------------------+\n",
            "|payment_type|avg_total_amount_by_payment_type|avg_tip_amount_by_payment_type|\n",
            "+------------+--------------------------------+------------------------------+\n",
            "|         UNK|               41.46988988587174|            5.9853078083869695|\n",
            "|         CRD|               43.10881165649835|             6.771808027246697|\n",
            "|         DIS|               47.32923111548791|             8.339230720813458|\n",
            "|         CSH|              57.216788711919115|              9.50031631395964|\n",
            "|         NOC|                67.1824008178711|            11.925600147247314|\n",
            "+------------+--------------------------------+------------------------------+\n",
            "\n"
          ]
        }
      ],
      "source": [
        "res = fareWorker.avg_income_by_payment_type()\n",
        "res.show()"
      ]
    },
    {
      "cell_type": "code",
      "execution_count": null,
      "metadata": {
        "colab": {
          "base_uri": "https://localhost:8080/"
        },
        "id": "KoUtENBmssqg",
        "outputId": "e28290b0-0e8f-483f-91ca-499bd54f24f0"
      },
      "outputs": [
        {
          "name": "stdout",
          "output_type": "stream",
          "text": [
            "+---------------+----------------------------+---------------------------+\n",
            "|passenger_count|avg_trip_duration_in_minutes|avg_trip_distance_in_meters|\n",
            "+---------------+----------------------------+---------------------------+\n",
            "|              1|           12.45363854943212|          2.864331676228944|\n",
            "|              2|          13.221289035122933|          3.132683608506243|\n",
            "|              3|          13.063846487562916|          2.995664093904258|\n",
            "|              4|          13.292556630759751|         3.0704309022464362|\n",
            "|              5|          12.767367898400495|         3.0059805461290425|\n",
            "|              6|           12.71326754613647|          2.966485657952133|\n",
            "|              7|           11.50701754385965|           4.07684211040798|\n",
            "|              8|          16.612820512820512|          5.260000059237847|\n",
            "|              9|          12.845098039215687|           3.40529416753527|\n",
            "+---------------+----------------------------+---------------------------+\n",
            "\n"
          ]
        }
      ],
      "source": [
        "res = tripWorker.avg_trip_by_passenger_count()\n",
        "res.show()"
      ]
    },
    {
      "cell_type": "code",
      "execution_count": null,
      "metadata": {
        "colab": {
          "base_uri": "https://localhost:8080/"
        },
        "id": "ipD7WEB3uFW1",
        "outputId": "33e27595-809b-4c8b-f55c-c8aad289310c"
      },
      "outputs": [
        {
          "name": "stdout",
          "output_type": "stream",
          "text": [
            "+-----------+--------+\n",
            "|hour_of_day|   count|\n",
            "+-----------+--------+\n",
            "|          0| 6859958|\n",
            "|          1| 5058466|\n",
            "|          2| 3751200|\n",
            "|          3| 2732474|\n",
            "|          4| 1992051|\n",
            "|          5| 1700609|\n",
            "|          6| 3542063|\n",
            "|          7| 6237432|\n",
            "|          8| 7735990|\n",
            "|          9| 8011686|\n",
            "|         10| 7770435|\n",
            "|         11| 8018377|\n",
            "|         12| 8449374|\n",
            "|         13| 8359060|\n",
            "|         14| 8616982|\n",
            "|         15| 8188661|\n",
            "|         16| 6860234|\n",
            "|         17| 8369382|\n",
            "|         18|10317800|\n",
            "|         19|10795741|\n",
            "|         20|10216129|\n",
            "|         21|10009518|\n",
            "|         22| 9707947|\n",
            "|         23| 8597636|\n",
            "+-----------+--------+\n",
            "\n"
          ]
        }
      ],
      "source": [
        "res = tripWorker.trips_by_hour_of_day()\n",
        "res.show(24)"
      ]
    },
    {
      "cell_type": "code",
      "execution_count": null,
      "metadata": {
        "colab": {
          "base_uri": "https://localhost:8080/"
        },
        "id": "iO3ZL7_D8OnY",
        "outputId": "50b012a1-4cb0-4ad8-bb83-1d45777dce61"
      },
      "outputs": [
        {
          "name": "stdout",
          "output_type": "stream",
          "text": [
            "+------------+------------------+----------+\n",
            "|pickup_month|   avg_fare_amount|trip_count|\n",
            "+------------+------------------+----------+\n",
            "|           1|29.325388236404976|    107280|\n",
            "|           2|29.534481982189707|    106589|\n",
            "|           3| 29.58458562334528|    124452|\n",
            "|           4| 29.87224131218704|    125895|\n",
            "|           5|30.280802025932452|    129522|\n",
            "|           6|  30.1536204256245|    123433|\n",
            "|           7|29.829746131253508|    111987|\n",
            "|           8|29.878849114563323|    113278|\n",
            "|           9|29.816513573721775|    126568|\n",
            "|          10|29.798613519440696|    141870|\n",
            "|          11|29.872976941160495|    117829|\n",
            "|          12| 30.36345633734415|    119427|\n",
            "+------------+------------------+----------+\n",
            "\n"
          ]
        }
      ],
      "source": [
        "res = tripWorker.avg_fare_and_trip_count_by_month(fareWorker.df)\n",
        "res.show()"
      ]
    },
    {
      "cell_type": "code",
      "execution_count": null,
      "metadata": {
        "colab": {
          "base_uri": "https://localhost:8080/",
          "height": 338
        },
        "id": "QnOoeobTQolD",
        "outputId": "5c69dc05-38b6-43fe-b2b7-bef135bd9b63"
      },
      "outputs": [
        {
          "output_type": "error",
          "ename": "AnalysisException",
          "evalue": "ignored",
          "traceback": [
            "\u001b[0;31m---------------------------------------------------------------------------\u001b[0m",
            "\u001b[0;31mAnalysisException\u001b[0m                         Traceback (most recent call last)",
            "\u001b[0;32m<ipython-input-28-055e0c633613>\u001b[0m in \u001b[0;36m<cell line: 1>\u001b[0;34m()\u001b[0m\n\u001b[0;32m----> 1\u001b[0;31m \u001b[0mres\u001b[0m \u001b[0;34m=\u001b[0m \u001b[0mtripWorker\u001b[0m\u001b[0;34m.\u001b[0m\u001b[0maverage_passenger_count\u001b[0m\u001b[0;34m(\u001b[0m\u001b[0mfareWorker\u001b[0m\u001b[0;34m.\u001b[0m\u001b[0mdf\u001b[0m\u001b[0;34m)\u001b[0m\u001b[0;34m\u001b[0m\u001b[0;34m\u001b[0m\u001b[0m\n\u001b[0m\u001b[1;32m      2\u001b[0m \u001b[0mres\u001b[0m\u001b[0;34m.\u001b[0m\u001b[0mshow\u001b[0m\u001b[0;34m(\u001b[0m\u001b[0;34m)\u001b[0m\u001b[0;34m\u001b[0m\u001b[0;34m\u001b[0m\u001b[0m\n",
            "\u001b[0;32m<ipython-input-26-985a01685b3c>\u001b[0m in \u001b[0;36maverage_passenger_count\u001b[0;34m(self, fare_df)\u001b[0m\n\u001b[1;32m     43\u001b[0m                   \u001b[0;34m&\u001b[0m \u001b[0;34m(\u001b[0m\u001b[0mself\u001b[0m\u001b[0;34m.\u001b[0m\u001b[0mdf\u001b[0m\u001b[0;34m[\u001b[0m\u001b[0;34m'pickup_datetime'\u001b[0m\u001b[0;34m]\u001b[0m \u001b[0;34m==\u001b[0m \u001b[0mfare_df\u001b[0m\u001b[0;34m[\u001b[0m\u001b[0;34m'pickup_datetime'\u001b[0m\u001b[0;34m]\u001b[0m\u001b[0;34m)\u001b[0m\u001b[0;34m,\u001b[0m\u001b[0;34m\u001b[0m\u001b[0;34m\u001b[0m\u001b[0m\n\u001b[1;32m     44\u001b[0m                   how='inner')\n\u001b[0;32m---> 45\u001b[0;31m             .withColumn('average_total_amount',\n\u001b[0m\u001b[1;32m     46\u001b[0m                         avg(fare_df['total_amount']).over(window))\n\u001b[1;32m     47\u001b[0m             .withColumn('average_tip_amount',\n",
            "\u001b[0;32m/usr/local/lib/python3.10/dist-packages/pyspark/sql/dataframe.py\u001b[0m in \u001b[0;36mwithColumn\u001b[0;34m(self, colName, col)\u001b[0m\n\u001b[1;32m   5168\u001b[0m                 \u001b[0mmessage_parameters\u001b[0m\u001b[0;34m=\u001b[0m\u001b[0;34m{\u001b[0m\u001b[0;34m\"arg_name\"\u001b[0m\u001b[0;34m:\u001b[0m \u001b[0;34m\"col\"\u001b[0m\u001b[0;34m,\u001b[0m \u001b[0;34m\"arg_type\"\u001b[0m\u001b[0;34m:\u001b[0m \u001b[0mtype\u001b[0m\u001b[0;34m(\u001b[0m\u001b[0mcol\u001b[0m\u001b[0;34m)\u001b[0m\u001b[0;34m.\u001b[0m\u001b[0m__name__\u001b[0m\u001b[0;34m}\u001b[0m\u001b[0;34m,\u001b[0m\u001b[0;34m\u001b[0m\u001b[0;34m\u001b[0m\u001b[0m\n\u001b[1;32m   5169\u001b[0m             )\n\u001b[0;32m-> 5170\u001b[0;31m         \u001b[0;32mreturn\u001b[0m \u001b[0mDataFrame\u001b[0m\u001b[0;34m(\u001b[0m\u001b[0mself\u001b[0m\u001b[0;34m.\u001b[0m\u001b[0m_jdf\u001b[0m\u001b[0;34m.\u001b[0m\u001b[0mwithColumn\u001b[0m\u001b[0;34m(\u001b[0m\u001b[0mcolName\u001b[0m\u001b[0;34m,\u001b[0m \u001b[0mcol\u001b[0m\u001b[0;34m.\u001b[0m\u001b[0m_jc\u001b[0m\u001b[0;34m)\u001b[0m\u001b[0;34m,\u001b[0m \u001b[0mself\u001b[0m\u001b[0;34m.\u001b[0m\u001b[0msparkSession\u001b[0m\u001b[0;34m)\u001b[0m\u001b[0;34m\u001b[0m\u001b[0;34m\u001b[0m\u001b[0m\n\u001b[0m\u001b[1;32m   5171\u001b[0m \u001b[0;34m\u001b[0m\u001b[0m\n\u001b[1;32m   5172\u001b[0m     \u001b[0;32mdef\u001b[0m \u001b[0mwithColumnRenamed\u001b[0m\u001b[0;34m(\u001b[0m\u001b[0mself\u001b[0m\u001b[0;34m,\u001b[0m \u001b[0mexisting\u001b[0m\u001b[0;34m:\u001b[0m \u001b[0mstr\u001b[0m\u001b[0;34m,\u001b[0m \u001b[0mnew\u001b[0m\u001b[0;34m:\u001b[0m \u001b[0mstr\u001b[0m\u001b[0;34m)\u001b[0m \u001b[0;34m->\u001b[0m \u001b[0;34m\"DataFrame\"\u001b[0m\u001b[0;34m:\u001b[0m\u001b[0;34m\u001b[0m\u001b[0;34m\u001b[0m\u001b[0m\n",
            "\u001b[0;32m/usr/local/lib/python3.10/dist-packages/py4j/java_gateway.py\u001b[0m in \u001b[0;36m__call__\u001b[0;34m(self, *args)\u001b[0m\n\u001b[1;32m   1320\u001b[0m \u001b[0;34m\u001b[0m\u001b[0m\n\u001b[1;32m   1321\u001b[0m         \u001b[0manswer\u001b[0m \u001b[0;34m=\u001b[0m \u001b[0mself\u001b[0m\u001b[0;34m.\u001b[0m\u001b[0mgateway_client\u001b[0m\u001b[0;34m.\u001b[0m\u001b[0msend_command\u001b[0m\u001b[0;34m(\u001b[0m\u001b[0mcommand\u001b[0m\u001b[0;34m)\u001b[0m\u001b[0;34m\u001b[0m\u001b[0;34m\u001b[0m\u001b[0m\n\u001b[0;32m-> 1322\u001b[0;31m         return_value = get_return_value(\n\u001b[0m\u001b[1;32m   1323\u001b[0m             answer, self.gateway_client, self.target_id, self.name)\n\u001b[1;32m   1324\u001b[0m \u001b[0;34m\u001b[0m\u001b[0m\n",
            "\u001b[0;32m/usr/local/lib/python3.10/dist-packages/pyspark/errors/exceptions/captured.py\u001b[0m in \u001b[0;36mdeco\u001b[0;34m(*a, **kw)\u001b[0m\n\u001b[1;32m    183\u001b[0m                 \u001b[0;31m# Hide where the exception came from that shows a non-Pythonic\u001b[0m\u001b[0;34m\u001b[0m\u001b[0;34m\u001b[0m\u001b[0m\n\u001b[1;32m    184\u001b[0m                 \u001b[0;31m# JVM exception message.\u001b[0m\u001b[0;34m\u001b[0m\u001b[0;34m\u001b[0m\u001b[0m\n\u001b[0;32m--> 185\u001b[0;31m                 \u001b[0;32mraise\u001b[0m \u001b[0mconverted\u001b[0m \u001b[0;32mfrom\u001b[0m \u001b[0;32mNone\u001b[0m\u001b[0;34m\u001b[0m\u001b[0;34m\u001b[0m\u001b[0m\n\u001b[0m\u001b[1;32m    186\u001b[0m             \u001b[0;32melse\u001b[0m\u001b[0;34m:\u001b[0m\u001b[0;34m\u001b[0m\u001b[0;34m\u001b[0m\u001b[0m\n\u001b[1;32m    187\u001b[0m                 \u001b[0;32mraise\u001b[0m\u001b[0;34m\u001b[0m\u001b[0;34m\u001b[0m\u001b[0m\n",
            "\u001b[0;31mAnalysisException\u001b[0m: [AMBIGUOUS_REFERENCE] Reference `hack_license` is ambiguous, could be: [`hack_license`, `hack_license`]."
          ]
        }
      ],
      "source": [
        "res = tripWorker.average_passenger_count(fareWorker.df)\n",
        "res.show()"
      ]
    },
    {
      "cell_type": "code",
      "execution_count": null,
      "metadata": {
        "colab": {
          "base_uri": "https://localhost:8080/"
        },
        "id": "SIdqMzDgjj1P",
        "outputId": "fba83b66-dfbb-40c5-9bbe-fc759b9f3261"
      },
      "outputs": [
        {
          "name": "stdout",
          "output_type": "stream",
          "text": [
            "+--------------------+--------------------+---------+-------------------+-------------------+-------------+---------------+------------------------+----------------------+----------------------+-----------+\n",
            "|           medallion|        hack_license|vendor_id|    pickup_datetime|   dropoff_datetime|trip_distance|passenger_count|total_amount_december_31|tip_amount_december_31|trip_count_december_31|fare_amount|\n",
            "+--------------------+--------------------+---------+-------------------+-------------------+-------------+---------------+------------------------+----------------------+----------------------+-----------+\n",
            "|BE530E79CB7E459DE...|0002555BBE359440D...|      CMT|2013-12-31 19:54:49|2013-12-31 20:21:24|          8.9|              1|      42.380001068115234|     7.050000190734863|                     1|       28.5|\n",
            "|A8A7A370A7BAA9D3A...|0006C8F9279EFD18D...|      CMT|2013-12-31 02:48:42|2013-12-31 03:15:47|         11.7|              3|      50.189998626708984|     8.359999656677246|                     1|       35.5|\n",
            "|A8A7A370A7BAA9D3A...|0006C8F9279EFD18D...|      CMT|2013-12-31 20:15:11|2013-12-31 20:30:41|          8.7|              1|       90.90999984741211|                 17.75|                     2|       25.0|\n",
            "|DB79E01FDBBB71351...|0008B3E338CE8C337...|      CMT|2013-12-31 01:36:07|2013-12-31 01:47:28|          2.4|              2|      20.190000534057617|     3.359999895095825|                     1|       10.5|\n",
            "|90A6FA19D43DB1936...|0008B3E338CE8C337...|      CMT|2013-12-31 17:54:24|2013-12-31 18:14:36|          7.3|              1|      55.520002365112305|     8.359999895095825|                     2|       23.5|\n",
            "|2DC01415E5E2D7CB1...|000B8D660A329BBDB...|      CMT|2013-12-31 18:28:51|2013-12-31 18:51:10|          7.3|              1|       33.33000183105469|                   2.5|                     1|       24.0|\n",
            "|FC51A43508446C316...|001916B0A5713FF05...|      VTS|2013-12-31 18:58:00|2013-12-31 19:10:00|         6.08|              1|      30.299999237060547|      4.96999979019165|                     1|       18.5|\n",
            "|61CE3A2FB01F26A94...|0068EA2EB99A54B61...|      CMT|2013-12-31 18:32:15|2013-12-31 18:54:19|          8.6|              1|      43.279998779296875|     9.949999809265137|                     1|       26.5|\n",
            "|DCA1666E38B3AF427...|006FAD57CE21BB431...|      VTS|2013-12-31 18:23:00|2013-12-31 18:41:00|         8.55|              3|      38.099998474121094|     6.269999980926514|                     1|       25.0|\n",
            "|430DC7574702BDC37...|007A9790EC1265109...|      VTS|2013-12-31 19:03:00|2013-12-31 19:25:00|         9.54|              1|       38.83000183105469|                   4.0|                     1|       28.0|\n",
            "|430DC7574702BDC37...|007A9790EC1265109...|      VTS|2013-12-31 20:19:00|2013-12-31 20:37:00|         9.73|              2|        81.4900016784668|                   7.0|                     2|       28.0|\n",
            "|266CCA39BBE9D879B...|007E686365B4421FB...|      VTS|2013-12-31 21:11:00|2013-12-31 21:29:00|         4.89|              5|                    28.5|     4.670000076293945|                     1|       17.5|\n",
            "|26A50E380785019D7...|0086B9E2B25EA077F...|      VTS|2013-12-31 16:34:00|2013-12-31 16:48:00|         7.91|              1|       35.70000076293945|     5.869999885559082|                     1|       23.0|\n",
            "|AEB71B5F990A29E33...|00A290CDF574658C1...|      VTS|2013-12-31 22:59:00|2013-12-31 23:08:00|         3.36|              2|      21.299999237060547|    3.4700000286102295|                     1|       11.5|\n",
            "|6F3F1898E2F43BFCE...|00B1DC227BA089047...|      CMT|2013-12-31 23:53:54|2014-01-01 00:16:21|          6.9|              2|      35.790000915527344|     5.960000038146973|                     1|       23.5|\n",
            "|6BAF8F9341CC0C7BC...|01006C2DC614D178B...|      VTS|2013-12-31 16:53:00|2013-12-31 17:13:00|         9.58|              3|       43.40999984741211|     8.579999923706055|                     1|       28.0|\n",
            "|2770D5C78890742C0...|0100C603C614DA362...|      CMT|2013-12-31 23:06:35|2013-12-31 23:21:10|          8.3|              3|       34.83000183105469|                   4.0|                     1|       24.5|\n",
            "|037A26CB00C106CEF...|011CE311BFF1075B6...|      VTS|2013-12-31 22:50:00|2013-12-31 23:09:00|         5.72|              1|      30.329999923706055|                   4.0|                     1|       20.0|\n",
            "|E3980BE17BBBB4957...|012C2E55A60A0AF6C...|      CMT|2013-12-31 19:29:41|2013-12-31 19:57:39|         10.0|              1|      48.529998779296875|     9.699999809265137|                     1|       32.0|\n",
            "|69BF4241E4CC7D2B1...|013A221334FE8BDFB...|      CMT|2013-12-31 18:45:18|2013-12-31 19:01:51|          8.8|              1|       40.40999984741211|     8.079999923706055|                     1|       25.5|\n",
            "+--------------------+--------------------+---------+-------------------+-------------------+-------------+---------------+------------------------+----------------------+----------------------+-----------+\n",
            "only showing top 20 rows\n",
            "\n"
          ]
        }
      ],
      "source": [
        "res = tripWorker.trips_info_on_december_31(fareWorker.df)\n",
        "res.show()"
      ]
    },
    {
      "cell_type": "markdown",
      "metadata": {
        "id": "-CoDmUSt4e3L"
      },
      "source": [
        "**========================================================================================================================================================================================================**"
      ]
    },
    {
      "cell_type": "markdown",
      "metadata": {
        "id": "Y1PRMLxN419A"
      },
      "source": []
    },
    {
      "cell_type": "markdown",
      "source": [
        "*Верхола Ярослав*"
      ],
      "metadata": {
        "id": "WcjQDGUYvYx9"
      }
    },
    {
      "cell_type": "code",
      "source": [
        "from pyspark.sql import Window\n",
        "from pyspark.sql.functions import col, avg, min, month, hour, count, lit, when, rank, year, sum\n",
        "from datetime import datetime\n",
        "\n",
        "#Query 1: Average Trip Distance by Rate Code\n",
        "def avg_trip_distance_by_rate_code(self):\n",
        "    return (self.df\n",
        "            .groupBy(col(rate_code))\n",
        "            .agg(avg(trip_distance).alias('avg_trip_distance_by_rate_code'))\n",
        "            .orderBy('rate_code'))\n",
        "\n",
        "#Query 2: Number of Trips and Average Fare Amount by Vendor ID\n",
        "def trips_and_avg_fare_by_vendor(self, fare_df: DataFrame):\n",
        "    return (self.df\n",
        "            .join(fare_df,\n",
        "                  (self.df['medallion'] == fare_df['medallion'])\n",
        "                  & (self.df['hack_license'] == fare_df['hack_license'])\n",
        "                  & (self.df['pickup_datetime'] == fare_df['pickup_datetime']),\n",
        "                  how='inner')\n",
        "            .groupBy(self.df['vendor_id'])\n",
        "            .agg(count(lit(1)).alias('trip_count'), avg(fare_df['fare_amount']).alias('avg_fare_amount'))\n",
        "            .orderBy('vendor_id'))\n",
        "\n",
        "#Query 3: Number of Trips and Average Tip Percentage by Payment Type\n",
        "def trips_and_avg_tip_percentage_by_payment_type(self, fare_df: DataFrame):\n",
        "    return (self.df\n",
        "            .join(fare_df,\n",
        "                  (self.df['medallion'] == fare_df['medallion'])\n",
        "                  & (self.df['hack_license'] == fare_df['hack_license'])\n",
        "                  & (self.df['pickup_datetime'] == fare_df['pickup_datetime']),\n",
        "                  how='inner')\n",
        "            .groupBy(col('payment_type'))\n",
        "            .agg(count(lit(1)).alias('trip_count'),\n",
        "                 (avg(fare_df['tip_amount']) / avg(fare_df['total_amount']) * 100).alias('avg_tip_percentage'))\n",
        "            .orderBy('payment_type'))\n",
        "\n",
        "#Query 4:What are the top 5 medallions with the highest total tip amounts for trips made by vendors 'CMT' and 'VTS' during the year 2013?\n",
        "def top_medallions_with_highest_tips_window(self, fare_df: DataFrame):\n",
        "    joined_data = self.df.join(fare_df, on=['medallion', 'hack_license', 'vendor_id', 'pickup_datetime'], how='inner')\n",
        "    filtered_data = joined_data.filter((col('vendor_id').isin(['CMT', 'VTS'])) &\n",
        "                                       (year(col('pickup_datetime')) == 2013) &\n",
        "                                       (col('tip_amount') > 0))\n",
        "    total_tip_amounts = (filtered_data\n",
        "        .groupBy(col('medallion'))\n",
        "        .agg(sum(col('tip_amount')).alias('total_tip_amount'))\n",
        "    )\n",
        "    window_spec = Window.orderBy(col('total_tip_amount').desc())\n",
        "    ranked_medallions = (total_tip_amounts\n",
        "        .withColumn('rank', rank().over(window_spec))\n",
        "        .filter(col('rank') <= 5)\n",
        "        .orderBy(col('rank'))\n",
        "    )\n",
        "    return ranked_medallions\n",
        "\n",
        "#Query 5: What is the average trip distance for trips with a fare amount greater than $20, grouped by the rate code?\n",
        "def avg_trip_distance_for_expensive_trips(self, fare_df: DataFrame):\n",
        "    joined_data = self.df.join(fare_df, on=['medallion', 'hack_license', 'vendor_id', 'pickup_datetime'], how='inner')\n",
        "    filtered_data = joined_data.filter((col('fare_amount') > 20) & (col('trip_distance') > 0))\n",
        "    result_df = (filtered_data\n",
        "        .groupBy(col('rate_code'))\n",
        "        .agg(avg(col('trip_distance')).alias('avg_trip_distance'))\n",
        "    )\n",
        "\n",
        "    return result_df\n",
        "\n",
        "#Query 6: For each vendor, what is the average tip amount and total number of trips per month during the year 2013?\n",
        "def avg_tip_and_total_trips_per_month(self, fare_df: DataFrame):\n",
        "    joined_data = self.df.join(fare_df, on=['medallion', 'hack_license', 'vendor_id', 'pickup_datetime'], how='inner')\n",
        "    filtered_data = joined_data.filter((year(col('pickup_datetime')) == 2013) & (col('tip_amount') > 0))\n",
        "    filtered_data = filtered_data.withColumn('pickup_month', month(col('pickup_datetime')))\n",
        "    result_df = (filtered_data\n",
        "        .groupBy(col('vendor_id'), col('pickup_month'))\n",
        "        .agg(avg(col('tip_amount')).alias('avg_tip_amount'), count('*').alias('total_trips'))\n",
        "    )\n",
        "    return result_df\n",
        "\n",
        "\n",
        "\n",
        "TripWorker.avg_trip_distance_by_rate_code = avg_trip_distance_by_rate_code\n",
        "TripWorker.trips_and_avg_fare_by_vendor = trips_and_avg_fare_by_vendor\n",
        "TripWorker.trips_and_avg_tip_percentage_by_payment_type = trips_and_avg_tip_percentage_by_payment_type\n",
        "TripWorker.top_medallions_with_highest_tips_window = top_medallions_with_highest_tips_window\n",
        "TripWorker.avg_trip_distance_for_expensive_trips = avg_trip_distance_for_expensive_trips\n",
        "TripWorker.avg_tip_and_total_trips_per_month = avg_tip_and_total_trips_per_month\n"
      ],
      "metadata": {
        "id": "AWcShHDzvj7s"
      },
      "execution_count": null,
      "outputs": []
    },
    {
      "cell_type": "code",
      "source": [
        "res = tripWorker.avg_trip_distance_by_rate_code()\n",
        "res.show()"
      ],
      "metadata": {
        "id": "9Uw_nw4Avmd3",
        "colab": {
          "base_uri": "https://localhost:8080/"
        },
        "outputId": "6d6c10cb-69c9-47ee-f901-b595bed67b80"
      },
      "execution_count": null,
      "outputs": [
        {
          "output_type": "stream",
          "name": "stdout",
          "text": [
            "+---------+------------------------------+\n",
            "|rate_code|avg_trip_distance_by_rate_code|\n",
            "+---------+------------------------------+\n",
            "|        0|            3.1645385429058437|\n",
            "|        1|             2.637870829841818|\n",
            "|        2|            17.570905209133347|\n",
            "|        3|               16.606677908804|\n",
            "|        4|             8.900245971826527|\n",
            "|        5|             10.66871056381719|\n",
            "|        6|            3.5685297306486077|\n",
            "|        7|            4.5296295591526565|\n",
            "|        8|            1.7500000298023224|\n",
            "|        9|             3.092307700560643|\n",
            "|       15|                          28.5|\n",
            "|       17|            0.6000000238418579|\n",
            "|       28|              3.99999992052714|\n",
            "|       65|             4.460000038146973|\n",
            "|       77|             30.24999962002039|\n",
            "|       79|            2.9999999403953552|\n",
            "|      200|             4.099999904632568|\n",
            "|      206|                          24.0|\n",
            "|      210|            17.058333163460095|\n",
            "|      221|            3.0999999046325684|\n",
            "+---------+------------------------------+\n",
            "\n"
          ]
        }
      ]
    },
    {
      "cell_type": "code",
      "source": [
        "res = tripWorker.trips_and_avg_fare_by_vendor(fareWorker.df)\n",
        "res.show()"
      ],
      "metadata": {
        "colab": {
          "base_uri": "https://localhost:8080/"
        },
        "id": "V6Dp5vSHGgUZ",
        "outputId": "6de09386-d7e1-4b6f-b3fe-9ed0da8f3b54"
      },
      "execution_count": null,
      "outputs": [
        {
          "output_type": "stream",
          "name": "stdout",
          "text": [
            "+---------+----------+------------------+\n",
            "|vendor_id|trip_count|   avg_fare_amount|\n",
            "+---------+----------+------------------+\n",
            "|      CMT|  86688059|12.207681141684876|\n",
            "|      VTS|  86497032|12.493836446477616|\n",
            "+---------+----------+------------------+\n",
            "\n"
          ]
        }
      ]
    },
    {
      "cell_type": "code",
      "source": [
        "res = tripWorker.trips_and_avg_tip_percentage_by_payment_type(fareWorker.df)\n",
        "res.show()\n"
      ],
      "metadata": {
        "colab": {
          "base_uri": "https://localhost:8080/"
        },
        "id": "XTUgz_nzGgoc",
        "outputId": "32725ea5-d2ac-499b-ef7b-a1f9c61062be"
      },
      "execution_count": null,
      "outputs": [
        {
          "output_type": "stream",
          "name": "stdout",
          "text": [
            "+------------+----------+------------------+\n",
            "|payment_type|trip_count|avg_tip_percentage|\n",
            "+------------+----------+------------------+\n",
            "|         CRD|   1444445|15.705226027588964|\n",
            "|         CSH|       409|16.578058441851823|\n",
            "|         DIS|        13| 17.61962010425423|\n",
            "|         NOC|        22|18.436713374125073|\n",
            "|         UNK|      3232|14.424854419071972|\n",
            "+------------+----------+------------------+\n",
            "\n"
          ]
        }
      ]
    },
    {
      "cell_type": "code",
      "source": [
        "res = tripWorker.top_medallions_with_highest_tips_window(fareWorker.df)\n",
        "res.show()"
      ],
      "metadata": {
        "id": "72e90OmXGg0m",
        "colab": {
          "base_uri": "https://localhost:8080/"
        },
        "outputId": "a2c9224e-caf8-475f-f7e3-9f6e5e2abd6e"
      },
      "execution_count": null,
      "outputs": [
        {
          "output_type": "stream",
          "name": "stdout",
          "text": [
            "+--------------------+------------------+----+\n",
            "|           medallion|  total_tip_amount|rank|\n",
            "+--------------------+------------------+----+\n",
            "|96B9D6925FCF4275E...| 4284.900004018098|   1|\n",
            "|D29C5537B0FCD75F5...|3523.9199939370155|   2|\n",
            "|C67E4F9B7A376BBC3...| 3418.989996790886|   3|\n",
            "|A2025A43E119F430D...|3357.7600000053644|   4|\n",
            "|6DBD2CAC39BDF995F...| 3331.349994972348|   5|\n",
            "+--------------------+------------------+----+\n",
            "\n"
          ]
        }
      ]
    },
    {
      "cell_type": "code",
      "source": [
        "res = tripWorker.avg_trip_distance_for_expensive_trips(fareWorker.df)\n",
        "res.show()"
      ],
      "metadata": {
        "id": "PU8LuWewHGjc",
        "colab": {
          "base_uri": "https://localhost:8080/"
        },
        "outputId": "6c536693-e13f-410e-f92b-d2e9261fb322"
      },
      "execution_count": null,
      "outputs": [
        {
          "output_type": "stream",
          "name": "stdout",
          "text": [
            "+---------+------------------+\n",
            "|rate_code| avg_trip_distance|\n",
            "+---------+------------------+\n",
            "|        1|10.242936054156958|\n",
            "|        4|21.290138125842425|\n",
            "|        0|10.589534931404646|\n",
            "|        2|17.303571479661123|\n",
            "|        5|10.312500074505806|\n",
            "|        3|15.439999930063884|\n",
            "|        7| 7.900000095367432|\n",
            "|      210|               9.0|\n",
            "+---------+------------------+\n",
            "\n"
          ]
        }
      ]
    },
    {
      "cell_type": "code",
      "source": [
        "res = tripWorker.avg_tip_and_total_trips_per_month(fareWorker.df)\n",
        "res.show()"
      ],
      "metadata": {
        "id": "XHXwc5wOI1wj",
        "colab": {
          "base_uri": "https://localhost:8080/"
        },
        "outputId": "a8f1b4f8-acda-4d7f-bcad-e9717fdd3f2b"
      },
      "execution_count": null,
      "outputs": [
        {
          "output_type": "stream",
          "name": "stdout",
          "text": [
            "+---------+------------+-----------------+-----------+\n",
            "|vendor_id|pickup_month|   avg_tip_amount|total_trips|\n",
            "+---------+------------+-----------------+-----------+\n",
            "|      CMT|          12|7.153392068729986|      56523|\n",
            "|      VTS|           2|6.256470951788356|      54961|\n",
            "|      VTS|           1|6.200401433579257|      54679|\n",
            "|      CMT|          10|6.984980552313909|      67619|\n",
            "|      VTS|          10|7.078242171947447|      74251|\n",
            "|      VTS|           8|6.281740179647902|      56954|\n",
            "|      VTS|           9|6.709694920576118|      66573|\n",
            "|      CMT|           1|6.855170233362057|      52601|\n",
            "|      VTS|           7|6.275860394498265|      58793|\n",
            "|      VTS|           6|6.360718369272998|      64758|\n",
            "|      VTS|           5|6.379841589796838|      68176|\n",
            "|      CMT|           8|7.007861125042788|      56324|\n",
            "|      CMT|           2|6.897582603188723|      51626|\n",
            "|      VTS|          12|7.261135058378472|      62904|\n",
            "|      CMT|           9|6.991458787760324|      59995|\n",
            "|      CMT|           5|7.079866493458669|      61346|\n",
            "|      VTS|          11| 7.09030455442277|      61006|\n",
            "|      VTS|           3|6.257558446458704|      64078|\n",
            "|      CMT|           6|7.061869479918838|      58674|\n",
            "|      CMT|          11|6.986844412306512|      56823|\n",
            "+---------+------------+-----------------+-----------+\n",
            "only showing top 20 rows\n",
            "\n"
          ]
        }
      ]
    },
    {
      "cell_type": "markdown",
      "metadata": {
        "id": "w_S4NbWFXgEk"
      },
      "source": [
        "Запити Бобиляк Микола"
      ]
    },
    {
      "cell_type": "code",
      "execution_count": null,
      "metadata": {
        "id": "qEBfiI8FXjcV"
      },
      "outputs": [],
      "source": [
        "from pyspark.sql import functions as F\n",
        "from pyspark.sql.window import Window\n",
        "\n",
        "    # Average tip amount by passenger count\n",
        "def avg_tip_amount_by_passenger_count(self, fare_df: DataFrame):\n",
        "      return (self.df\n",
        "            .join(fare_df,\n",
        "                  (self.df['hack_license'] == fare_df['hack_license'])\n",
        "                  & (self.df['pickup_datetime'] == fare_df['pickup_datetime']),\n",
        "                  how='inner')\n",
        "            .groupBy(col(passenger_count))\n",
        "            .agg(avg(total_amount).alias('avg_total_amount_by_passenger_count'))\n",
        "            .orderBy('passenger_count'))"
      ]
    },
    {
      "cell_type": "code",
      "source": [
        "from pyspark.sql import Window\n",
        "from pyspark.sql.functions import col, avg, min, month, hour, count, lit, when, to_date, sum, coalesce\n",
        "\n",
        "    # Average tip amount by passenger count\n",
        "def avg_tip_amount_by_passenger_count(self, fare_df: DataFrame):\n",
        "      return (self.df\n",
        "            .join(fare_df,\n",
        "                  (self.df['hack_license'] == fare_df['hack_license'])\n",
        "                  & (self.df['pickup_datetime'] == fare_df['pickup_datetime']),\n",
        "                  how='inner')\n",
        "            .groupBy(col(passenger_count))\n",
        "            .agg(avg(tip_amount).alias('avg_tip_amount_by_passenger_count'))\n",
        "            .orderBy('passenger_count'))\n",
        "\n",
        "def avg_total_amount_by_distance(self, fare_df: DataFrame):\n",
        "      return (self.df\n",
        "            .join(fare_df,\n",
        "                  (self.df['hack_license'] == fare_df['hack_license'])\n",
        "                  & (self.df['pickup_datetime'] == fare_df['pickup_datetime']),\n",
        "                  how='inner')\n",
        "            .groupBy(col(trip_distance))\n",
        "            .agg(avg(total_amount).alias('avg_total_amount_by_trip_distance'))\n",
        "            .orderBy('trip_distance'))\n",
        "\n",
        "#Avrage tips and tolls depends on fare amount\n",
        "def avg_tips_and_tolls_amount_by_fare(self, fare_df: DataFrame):\n",
        "    return (self.df\n",
        "            .join(fare_df,\n",
        "                  (self.df['hack_license'] == fare_df['hack_license'])\n",
        "                  & (self.df['pickup_datetime'] == fare_df['pickup_datetime']),\n",
        "                  how='inner')\n",
        "            .groupBy(col(fare_amount))\n",
        "            .agg(avg(tip_amount).alias('avg_tip_amount_depend_on_fare_amount'), avg(tolls_amount).alias('avg_tolls_amount_depend_on_fare_amount'))\n",
        "            .orderBy(fare_amount))\n",
        "\n",
        "#Average distance per month\n",
        "def avg_distance_by_month(self):\n",
        "    return (self.df\n",
        "            .groupBy(month(self.df['pickup_datetime']).alias('pickup_month'))\n",
        "            .agg(avg(trip_distance).alias('avg_trip_distance'))\n",
        "            .orderBy('pickup_month'))\n",
        "\n",
        "\n",
        "def amount_of_passengers_per_day(self):\n",
        "        return (self.df\n",
        "            .withColumn('pickup_date', to_date(col('pickup_datetime')))\n",
        "            .groupBy('pickup_date')\n",
        "            .agg(count('passenger_count').alias('passenger_count_per_day'))\n",
        "            .orderBy('pickup_date')\n",
        ")\n",
        "\n",
        "def amount_of_passenger_for_payment_type(self, fare_df: DataFrame):\n",
        "        return (self.df\n",
        "                .join(fare_df,\n",
        "                  (self.df['hack_license'] == fare_df['hack_license'])\n",
        "                  & (self.df['pickup_datetime'] == fare_df['pickup_datetime']),\n",
        "                  how='inner')\n",
        "                .groupBy(col(payment_type))\n",
        "                .agg(count('passenger_count').alias('passenger_count_for_payment_type'))\n",
        "                .orderBy('payment_type'))\n",
        "\n",
        "\n",
        "TripWorker.avg_tip_amount_by_passenger_count = avg_tip_amount_by_passenger_count\n",
        "TripWorker.avg_total_amount_by_distance = avg_total_amount_by_distance\n",
        "TripWorker.avg_distance_by_month = avg_distance_by_month\n",
        "TripWorker.avg_tips_and_tolls_amount_by_fare = avg_tips_and_tolls_amount_by_fare\n",
        "TripWorker.amount_of_passengers_per_day = amount_of_passengers_per_day\n",
        "TripWorker.amount_of_passenger_for_payment_type = amount_of_passenger_for_payment_type"
      ],
      "metadata": {
        "id": "0i52GITdG4Xg"
      },
      "execution_count": null,
      "outputs": []
    },
    {
      "cell_type": "code",
      "execution_count": null,
      "metadata": {
        "id": "cTzHZ67ZdtwW"
      },
      "outputs": [],
      "source": [
        "res = tripWorker.avg_tip_amount_by_passenger_count(fareWorker.df)\n",
        "res.show()\n",
        "\n",
        "res = tripWorker.avg_total_amount_by_distance(fareWorker.df)\n",
        "res.show()\n",
        "\n",
        "res = tripWorker.avg_distance_by_month()\n",
        "res.show()\n",
        "\n",
        "res = tripWorker.avg_tips_and_tolls_amount_by_fare(fareWorker.df)\n",
        "res.show()\n",
        "\n",
        "res = tripWorker.amount_of_passengers_per_day()\n",
        "res.show()"
      ]
    }
  ],
  "metadata": {
    "colab": {
      "provenance": []
    },
    "kernelspec": {
      "display_name": "Python 3",
      "name": "python3"
    },
    "language_info": {
      "name": "python"
    }
  },
  "nbformat": 4,
  "nbformat_minor": 0
}